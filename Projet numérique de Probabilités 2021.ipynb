{
 "cells": [
  {
   "cell_type": "markdown",
   "metadata": {},
   "source": [
    "## Instructions {-}\n",
    "Ce sujet est constitué de deux parties : la partie 1 correspond au sujet donné l'an dernier, dont la correction vous est donnée, la partie 2 constitue la partie qui sera évaluée et se place dans la continuité de la partie 1."
   ]
  },
  {
   "cell_type": "markdown",
   "metadata": {},
   "source": [
    "# Enoncé du problème (Partie 1)\n",
    "\n",
    "L'objectif de ce projet est d'estimer la longueur de câble sous-marin nécessaire pour relier deux côtes $A$ et $B$  en utilisant des simulations conditionnelles.\n",
    "\n",
    "\n",
    "Le câble reposera sur le fond marin dont la profondeur est inconnue.\n",
    "Le segment $[AB]$ est discrétisé par une séquence de (N+1) points. On pose $x_0=A$ et pour $i=1,\\dots,N$, $$x_i=x_0+i\\Delta$$ où $$\\Delta = \\frac{AB}{N}$$ de telle sorte que $x_N=B$.\n",
    "On note $z(x)$ la profondeur du fond marin au point $x$ de telle sorte \n",
    "qu'on pourra estimer la longueur totale de câble nécessaire par la somme \n",
    "des longueurs sur les segments de la discrétisation :\n",
    "\n",
    "$$l=\\sum_{i=1}^N\\sqrt{\\Delta^2+(z(x_i)-z(x_{i-1}))^2}.$$\n",
    "\n",
    "Enfin, notons que l'on dispose d'un ensemble de $n$ observations de la \n",
    "profondeur que l'on supposera situées sur des points de discrétisation $z(x_{j_1}),\\dots,z(x_{j_n})$.\n",
    "\n",
    "\n",
    "On adopte un modèle probabiliste pour la profondeur. On suppose que le vecteur des \n",
    "profondeurs sur les points de discrétisation \n",
    "$\\mathbf{z}=(z(x_0),\\dots,z(x_N))$ est la réalisation\n",
    "d'un vecteur aléatoire gaussien $\\mathbf{Z}=(Z(x_0),\\dots,Z(x_N))$ \n",
    "dont le vecteur d'espérance ne contient qu'une seule valeur $\\mu$ \n",
    "répétée $N+1$ fois et dont la matrice de covariance $\\Sigma$ a pour termes $\\sigma_{ij}$\n",
    "définis par $\\sigma_{ij}=C(|x_i-x_j|)$ où $C$ est une\n",
    "fonction décroissante, traduisant le fait que deux points \n",
    "géographiquement proches ont tendance à avoir des profondeurs plus similaires que deux points éloignés.\n",
    "\n",
    "On supposera que la matrice de covariance ainsi \n",
    "générée est définie-positive (en fait, $C$ sera choisie parmi les fonctions qui, \n",
    "appliquées aux termes d'une matrice de distance, produisent des matrices définie-positives). \n",
    "\n",
    "Si on note $L$ la variable aléatoire donnant la longueur de cable nécessaire : \n",
    "$$L=\\sum_{i=1}^N\\sqrt{\\Delta^2+(Z(x_i)-Z(x_{i-1}))^2},$$\n",
    "un bon estimateur de $L$ est fourni par l'espérance conditionnelle \n",
    "\n",
    "$$L^\\star=E[L|Z(x_{j_1})=z(x_{j_1}),\\dots,Z(x_{j_n})=z(x_{j_n})].$$\n",
    "                                                                              \n",
    "Cependant, cette quantité est difficilement accessible par le calcul. \n",
    "On va donc avoir recours à des\n",
    "simulations conditionnelles. C'est-à-dire que l'on va simuler \n",
    "un nombre $K$ de réalités (disons des réalisations du modèle \n",
    "probabiliste choisi), et sur chacune d'entre elle, \n",
    "la quantité de câble nécessaire sera évaluée. \n",
    "On disposera ainsi d'un échantillon $l_{(1)},\\dots,l_{(K)}$ de \n",
    "longueures simulées. Puis on approchera l'espérance conditionnelle  par \n",
    "$$L^\\star=\\frac1{K}\\sum_{k=1}^K l_{(k)}.$$\n",
    "\n",
    "L'objectif de ce projet est donc d'écrire un code permettant \n",
    "d'effectuer cette simulation conditionnelle, puis de l'appliquer \n",
    "au jeu de données fourni et d'en déduire une estimation de la longueur de câble nécessaire."
   ]
  },
  {
   "cell_type": "markdown",
   "metadata": {},
   "source": [
    "## Questions théoriques\n",
    "\n",
    "1. Quel théorème du cours nous autorise-t-il à estimer l'espérance conditionnelle par la moyenne empirique de simulations conditionnelles ?\n",
    "\n",
    "*la loi forte des grands nombres, cf [Proba IV p.16](https://boisgera.github.io/CDIS/output/Probabilit%C3%A9%20IV.pdf), en vérifiant que $L$ est bien intégrable*\n",
    "\n",
    "2. Rappeler la loi conditionnelle du vecteur des composantes de $\\mathbf{Z}$ correspondant aux points de discrétisation\n",
    "sans observation, connaissant les valeurs prises par les composantes aux sites d'observation.\n",
    "\n",
    "*cf. [Proba III p.18](https://boisgera.github.io/CDIS/output/Probabilit%C3%A9%20III.pdf),*\n",
    "\n",
    "3. Si $\\mathbf{Y}=(Y_1,\\dots,Y_p)$ est un vecteur de composantes gaussiennes indépendantes, toutes d'espérance nulle et de variance 1, \n",
    "quelle est la loi du vecteur $\\mathbf{Z}=m+R\\mathbf{Y}$ où $R$ est une matrice $p\\times p$ et $m$ est un vecteur de taille $p$ ?\n",
    "\n",
    "*cf. [Proba V p.12](https://cloud.mines-paristech.fr/index.php/s/GLDwtTAMOJCYk3i/download)*\n",
    "\n",
    "4. En déduire un algorithme de simulation conditionnelle.\n",
    "\n",
    "*Appliquer l'algorithme de la q.3 à la loi conditionnelle (on calculera en particulier l'espérance conditionnelle de $\\mathbf{Z}$ sachant les données et la décomposition de Cholesky de la matrice de covariance conditionnelle sachant les données).*"
   ]
  },
  {
   "cell_type": "markdown",
   "metadata": {},
   "source": [
    "## Données du problème\n",
    "Conventionnellement, $A$ est l'origine, $B=500$, $N=100$.\n",
    "\n",
    "Les données $$\\begin{array}{c|r}i & z(x_i)\\\\\n",
    "\\hline\n",
    "0 & 0\\\\\n",
    "20 & -4\\\\\n",
    "40 & -12.8\\\\\n",
    "60 & -1\\\\\n",
    "80 & -6.5\\\\\n",
    "100 & 0\\end{array}$$\n",
    "\n",
    "L'espérance de chaque composante du vecteur aléatoire $\\mathbf{Z}$ est donnée par $\\mu=-5.$\n",
    "\n",
    "La fonction $C$ est définie par $$C(h)=\\sigma^2 e^{-|h|/a},$$\n",
    "\n",
    "où $|h|$ correspond à la distance entre deux points, $a=50$ et $\\sigma^2=12$.\n"
   ]
  },
  {
   "cell_type": "markdown",
   "metadata": {},
   "source": [
    "## Implémentation"
   ]
  },
  {
   "cell_type": "markdown",
   "metadata": {},
   "source": [
    "### Préambule"
   ]
  },
  {
   "cell_type": "code",
   "execution_count": 1,
   "metadata": {},
   "outputs": [],
   "source": [
    "#Chargement de dépendances\n",
    "\n",
    "import numpy as np\n",
    "import matplotlib.pyplot as plt\n",
    "\n",
    "#Discrétisation\n",
    "A=0\n",
    "B=500\n",
    "N=101 #Nombre de points de discrétisation\n",
    "Delta = (B-A)/(N-1)\n",
    "discretization_indexes = np.arange(N)\n",
    "discretization = discretization_indexes*Delta\n",
    "#Paramètres du modèle\n",
    "\n",
    "mu=-5\n",
    "a = 50\n",
    "sigma2 = 12\n",
    "\n",
    "#Données\n",
    "\n",
    "observation_indexes = [0,20,40,60,80,100]\n",
    "depth = np.array([0,-4,-12.8,-1,-6.5,0])\n",
    "\n",
    "#Indices des composantes correspondant aux observations et aux componsantes non observées\n",
    "\n",
    "unknown_indexes=list(set(discretization_indexes)-set(observation_indexes))\n"
   ]
  },
  {
   "cell_type": "markdown",
   "metadata": {},
   "source": [
    "### Questions\n",
    "\n",
    "1. Ecrire une fonction qui prend en argument la distance entre les points, le paramètre $a$, et le paramètre $\\sigma^2$, et qui retourne la covariance entre deux points.\n",
    "On pourra fournir une matrice de distance à cette fonction. Dans ce cas, la fonction renverra la matrice de covariance."
   ]
  },
  {
   "cell_type": "code",
   "execution_count": 2,
   "metadata": {},
   "outputs": [],
   "source": [
    "#Fonction C\n",
    "\n",
    "def Covexp(dist,rangeval,sigmaval):\n",
    "    return sigmaval * np.exp(-dist/rangeval)\n"
   ]
  },
  {
   "cell_type": "markdown",
   "metadata": {},
   "source": [
    "2. Calculer la matrice de distance."
   ]
  },
  {
   "cell_type": "code",
   "execution_count": 3,
   "metadata": {},
   "outputs": [],
   "source": [
    "distmat=abs(np.subtract.outer(discretization,discretization))"
   ]
  },
  {
   "cell_type": "markdown",
   "metadata": {},
   "source": [
    "3. Calculer la matrice de covariance du vecteur $\\mathbf{Z}=(Z(x_0),\\dots,Z(x_N))$."
   ]
  },
  {
   "cell_type": "code",
   "execution_count": 4,
   "metadata": {},
   "outputs": [],
   "source": [
    "Sigma=Covexp(distmat,a,sigma2)"
   ]
  },
  {
   "cell_type": "markdown",
   "metadata": {},
   "source": [
    "4. Extraire les 3 matrices de covariance suivantes :\n",
    "\n",
    " * entre les observations\n",
    "\n",
    " * entre les observations et les inconnues\n",
    "\n",
    " * entre les inconnues\n"
   ]
  },
  {
   "cell_type": "code",
   "execution_count": 5,
   "metadata": {},
   "outputs": [],
   "source": [
    "SigmaObs = Sigma[observation_indexes,:][:,observation_indexes]\n",
    "SigmaObsUnknown = Sigma[observation_indexes,:][:,unknown_indexes]\n",
    "SigmaUnknown = Sigma[unknown_indexes,:][:,unknown_indexes]"
   ]
  },
  {
   "cell_type": "markdown",
   "metadata": {},
   "source": [
    "5. Calculer l'espérance conditionnelle des composantes non observées connaissant les observations et la représenter avec les données."
   ]
  },
  {
   "cell_type": "code",
   "execution_count": 6,
   "metadata": {},
   "outputs": [],
   "source": [
    "invSigma = np.linalg.inv(SigmaObs) \n",
    "Ec= mu+np.matmul(np.transpose(SigmaObsUnknown),np.matmul(np.linalg.inv(SigmaObs),depth-mu))"
   ]
  },
  {
   "cell_type": "code",
   "execution_count": 7,
   "metadata": {},
   "outputs": [
    {
     "data": {
      "image/png": "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\n",
      "text/plain": [
       "<Figure size 432x288 with 1 Axes>"
      ]
     },
     "metadata": {
      "needs_background": "light"
     },
     "output_type": "display_data"
    }
   ],
   "source": [
    "allval1 = np.zeros(N)\n",
    "allval1[unknown_indexes]=Ec\n",
    "allval1[observation_indexes]=depth\n",
    "plt.plot(discretization,allval1)\n",
    "plt.plot(discretization[observation_indexes], depth, 'ro')\n",
    "plt.show()"
   ]
  },
  {
   "cell_type": "markdown",
   "metadata": {},
   "source": [
    "6. Calculer la matrice de variance conditionnelle et tracer sa diagonale (variance conditionnelle) en fonction de la position. Commenter."
   ]
  },
  {
   "cell_type": "code",
   "execution_count": 8,
   "metadata": {},
   "outputs": [],
   "source": [
    "SigmaCond = SigmaUnknown - np.matmul(np.transpose(SigmaObsUnknown),np.matmul(np.linalg.inv(SigmaObs),SigmaObsUnknown))"
   ]
  },
  {
   "cell_type": "code",
   "execution_count": 9,
   "metadata": {},
   "outputs": [
    {
     "data": {
      "image/png": "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\n",
      "text/plain": [
       "<Figure size 432x288 with 1 Axes>"
      ]
     },
     "metadata": {
      "needs_background": "light"
     },
     "output_type": "display_data"
    }
   ],
   "source": [
    "allval2 = np.zeros(N)\n",
    "allval2[unknown_indexes]=np.diag(SigmaCond)\n",
    "plt.plot(discretization,allval2)\n",
    "plt.plot(discretization[observation_indexes], np.zeros(np.shape(observation_indexes)[0]), 'ro')\n",
    "plt.show()"
   ]
  },
  {
   "cell_type": "markdown",
   "metadata": {},
   "source": [
    "*On voit ici que la variance est nulle aux points de données (puisque la valeur est fixée) puis qu'elle augmente lorsqu'on s'éloigne des données*"
   ]
  },
  {
   "cell_type": "markdown",
   "metadata": {},
   "source": [
    "7. Effectuer une simulation conditionnelle. Sur un même graphique, tracer la simulation ainsi que les données et l'espérance conditionnelle. Commenter."
   ]
  },
  {
   "cell_type": "code",
   "execution_count": 10,
   "metadata": {},
   "outputs": [],
   "source": [
    "Cholesky = np.linalg.cholesky(SigmaCond)\n",
    "x = np.random.normal(0,1,np.shape(unknown_indexes)[0])\n",
    "simu = Ec + np.matmul(Cholesky,x)"
   ]
  },
  {
   "cell_type": "code",
   "execution_count": 11,
   "metadata": {
    "scrolled": true
   },
   "outputs": [
    {
     "data": {
      "image/png": "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\n",
      "text/plain": [
       "<Figure size 432x288 with 1 Axes>"
      ]
     },
     "metadata": {
      "needs_background": "light"
     },
     "output_type": "display_data"
    }
   ],
   "source": [
    "allval3 = np.zeros(N)\n",
    "allval3[unknown_indexes]=simu\n",
    "allval3[observation_indexes]=depth\n",
    "plt.plot(discretization,allval3)\n",
    "plt.plot(discretization,allval1)\n",
    "plt.plot(discretization[observation_indexes], depth, 'ro')\n",
    "plt.show()"
   ]
  },
  {
   "cell_type": "markdown",
   "metadata": {},
   "source": [
    "*l'espérance conditionnelle est lisse car c'est la fonction des données qui minimise la variance ; la simulation conditionnelle reproduit les fluctuations du modèle et donc l'aspect du fond marin*"
   ]
  },
  {
   "cell_type": "markdown",
   "metadata": {},
   "source": [
    "8. Ecrire une fonction qui calcule la longueur du câble en fonction du vecteur des profondeurs et du pas de discrétisation."
   ]
  },
  {
   "cell_type": "code",
   "execution_count": 12,
   "metadata": {},
   "outputs": [],
   "source": [
    "def length(z,delta):\n",
    "    return sum(np.sqrt(Delta**2+(z[1:N]-z[0:-1])**2))"
   ]
  },
  {
   "cell_type": "markdown",
   "metadata": {},
   "source": [
    "9. Utiliser cette fonction pour calculer la longueur du câble à partir de 100 simulations. Comparer l'espérance conditionnelle (estimée) de la longueur avec la longueur de l'espérance conditionnelle."
   ]
  },
  {
   "cell_type": "code",
   "execution_count": 13,
   "metadata": {},
   "outputs": [],
   "source": [
    "K=10000\n",
    "result = np.zeros(K)\n",
    "for i in range(K):\n",
    "    x=np.random.normal(0,1,np.shape(unknown_indexes)[0])\n",
    "    allval3[unknown_indexes]=Ec + np.matmul(Cholesky,x)\n",
    "    result[i]=length(allval3,Delta)\n"
   ]
  },
  {
   "cell_type": "code",
   "execution_count": 14,
   "metadata": {},
   "outputs": [
    {
     "data": {
      "text/plain": [
       "522.4462637727087"
      ]
     },
     "execution_count": 14,
     "metadata": {},
     "output_type": "execute_result"
    }
   ],
   "source": [
    "sum(result)/K"
   ]
  },
  {
   "cell_type": "code",
   "execution_count": 15,
   "metadata": {},
   "outputs": [
    {
     "data": {
      "text/plain": [
       "501.6468416918411"
      ]
     },
     "execution_count": 15,
     "metadata": {},
     "output_type": "execute_result"
    }
   ],
   "source": [
    "length(allval1,Delta)"
   ]
  },
  {
   "cell_type": "markdown",
   "metadata": {},
   "source": [
    "*On donne ici directement les résultats pour 100000 simulations (comparer la vitesse d'éxécution avec votre code pour voir l'intérêt de la vectorisation).*\n",
    "\n",
    "*On voit ici que la longueur donnée par l'espérance conditionnelle est bien moindre que la longueur d'une simulation conditionnelle. Ceci est dû au fait que la simulation conditionnelle va reproduire les fluctuations attendues, au contraire de l'espérance conditionnelle qui minimise la variance.*\n",
    "\n",
    "*NB : On remarquera que c'est le seul endroit où on a utilisé une boucle dans cette correction. On aurait pu s'en passer en utilisant notamment les outils de la librairie Pandas mais le code est plus lisible ainsi.*"
   ]
  },
  {
   "cell_type": "markdown",
   "metadata": {},
   "source": [
    "10. Représenter la suite $M_n$ des moyennes des longueurs de câbles en fonction du nombre de simulations. Commenter."
   ]
  },
  {
   "cell_type": "code",
   "execution_count": 16,
   "metadata": {},
   "outputs": [
    {
     "data": {
      "image/png": "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\n",
      "text/plain": [
       "<Figure size 432x288 with 1 Axes>"
      ]
     },
     "metadata": {
      "needs_background": "light"
     },
     "output_type": "display_data"
    }
   ],
   "source": [
    "indice_simu = 1+np.arange(K)\n",
    "plt.plot(indice_simu,np.cumsum(result)/indice_simu)\n",
    "plt.show()"
   ]
  },
  {
   "cell_type": "markdown",
   "metadata": {},
   "source": [
    "*Comme attendu d'après la LFGN, on observe une stabilisation de la valeur moyenne. Les variations sont imperceptibles après quelques dizaines de milliers de simulations*"
   ]
  },
  {
   "cell_type": "markdown",
   "metadata": {},
   "source": [
    "11. Représenter l'histogramme des longueurs de câbles générées."
   ]
  },
  {
   "cell_type": "code",
   "execution_count": 17,
   "metadata": {},
   "outputs": [
    {
     "data": {
      "image/png": "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\n",
      "text/plain": [
       "<Figure size 432x288 with 1 Axes>"
      ]
     },
     "metadata": {
      "needs_background": "light"
     },
     "output_type": "display_data"
    }
   ],
   "source": [
    "plt.hist(result,50,density=True)\n",
    "plt.show()"
   ]
  },
  {
   "cell_type": "markdown",
   "metadata": {},
   "source": [
    "*L'histogramme ressemble à une densité gaussienne, avec néanmoins une légère dissymétrie (plus de valeurs fortes).*"
   ]
  },
  {
   "cell_type": "markdown",
   "metadata": {},
   "source": [
    "12. Donner un intervalle de confiance à 95% de la longueur du câble par 2 méthodes différentes. Commenter."
   ]
  },
  {
   "cell_type": "markdown",
   "metadata": {},
   "source": [
    "*1ère méthode : par approximation gaussienne. L'histogramme précédent suggère qu'une loi gaussienne peut bien représenter la loi conditionnelle de la longueur du cable. On obtient un intervalle de confiance en calculant la moyenne (milieu de l'intervalle) et l'écart type de l'échantillon de longueurs de câble puis en appliquant la formule du cours.*"
   ]
  },
  {
   "cell_type": "code",
   "execution_count": 18,
   "metadata": {},
   "outputs": [
    {
     "data": {
      "text/plain": [
       "[516.76549385974, 528.1270336856774]"
      ]
     },
     "execution_count": 18,
     "metadata": {},
     "output_type": "execute_result"
    }
   ],
   "source": [
    "Ln = sum(result)/K\n",
    "sigman = np.std(result)\n",
    "[Ln - sigman*1.96,Ln + sigman*1.96]"
   ]
  },
  {
   "cell_type": "markdown",
   "metadata": {},
   "source": [
    "*2e méthode : on extrait les quantiles à 2.5% et 97.5% de l'échantillon, c'est-à-dire les valeurs $x_\\alpha$ pour $\\alpha \\in \\{0.025 ; 0.975\\}$telles que* $$\\mathbb{P}(L<x_\\alpha) \\approx \\frac{1}{n}\\sum_{i=1}^N 1_{\\{L_i<x_\\alpha\\}}$$"
   ]
  },
  {
   "cell_type": "code",
<<<<<<< HEAD
   "execution_count": 19,
   "metadata": {},
   "outputs": [
    {
     "data": {
      "text/plain": [
       "array([517.16709735, 528.44057511])"
      ]
     },
     "execution_count": 19,
     "metadata": {},
     "output_type": "execute_result"
    }
   ],
=======
   "execution_count": null,
   "metadata": {},
   "outputs": [],
>>>>>>> 042191e300516af5996617a6c5d28b0d10c1115b
   "source": [
    "np.quantile(result,[0.025,0.975])"
   ]
  },
  {
   "cell_type": "markdown",
   "metadata": {},
   "source": [
    "*ATTENTION : ici l'utilisation du TCL tel qu'exposé au début du chapitre 5 fournissait un intervalle de confiance de l'**espérance de la longueur de câble** et non de la **longueur de câble** (erreur fréquente).*\n",
    "\n",
    "*On voit par ailleurs que la 2e méthode est plus précise car elle est basée directement sur la loi empirique de l'échantillon*"
   ]
  },
  {
   "cell_type": "markdown",
   "metadata": {},
   "source": [
    "13. Donner une estimation de la probabilité que la longueur du câble dépasse 525 m."
   ]
  },
  {
   "cell_type": "code",
   "execution_count": 20,
   "metadata": {},
   "outputs": [
    {
     "data": {
      "text/plain": [
       "0.1827"
      ]
     },
     "execution_count": 20,
     "metadata": {},
     "output_type": "execute_result"
    }
   ],
   "source": [
    "np.mean(result>525)"
   ]
  },
  {
   "cell_type": "markdown",
   "metadata": {},
   "source": [
    "14. Reprendre les questions précédentes avec 1000, 10000 puis 100000 simulations. Commenter"
   ]
  },
  {
   "cell_type": "markdown",
   "metadata": {},
   "source": [
    "*cf. le commentaire de la question 10. On observe une stabilisation progressive des estimateurs des différentes quantités calculées : moyennes, quantiles, probabilité de dépassement de seuil.*"
   ]
  },
  {
   "cell_type": "markdown",
   "metadata": {},
   "source": [
    "# Enoncé 2021 (Partie 2)\n",
    "\n",
    "Nous nous plaçons dans le même cadre que ci-dessus. Nous tenons pour acquis les résultats précédents et allons maintenant approfondir l'analyse."
   ]
  },
  {
   "cell_type": "markdown",
   "metadata": {},
   "source": [
    "## Valeurs positives\n",
    "\n",
    "1. A la question 7 de la partie 1, on peut s'apercevoir que certains profils de profondeur présentent des valeurs positives, ce qui n'a pas de sens si on considère qu'il n'y a pas de partie émergée entre les deux côtes. Proposer et implémenter un algorithme de type rejet qui ne génèrera que des valeurs négatives. Représenter un profil de profondeur généré."
   ]
<<<<<<< HEAD
  },
  {
   "cell_type": "code",
   "execution_count": 35,
   "metadata": {
    "tags": []
   },
   "outputs": [
    {
     "data": {
      "image/png": "iVBORw0KGgoAAAANSUhEUgAAAXkAAAD4CAYAAAAJmJb0AAAAOXRFWHRTb2Z0d2FyZQBNYXRwbG90bGliIHZlcnNpb24zLjMuMSwgaHR0cHM6Ly9tYXRwbG90bGliLm9yZy/d3fzzAAAACXBIWXMAAAsTAAALEwEAmpwYAABbFklEQVR4nO2dd3hjV7W3361uy5Z7Hc/Y03vJlEx67ySZECAkGUKouRe+QC7tQsil3xA64dJCgBAgDUI6kF4mZdJmMr1Xz3jcqyzL6vv74+jIki3Zkm25yPt9Hj+2zznS2ceWflpn7bV/S0gpUSgUCkVmYhjvASgUCoUifSiRVygUigxGibxCoVBkMErkFQqFIoNRIq9QKBQZjGm8BxBNcXGxrKmpGe9hKBQKxaRi8+bNrVLKknj7JpTI19TUsGnTpvEehkKhUEwqhBC1ifapdI1CoVBkMErkFQqFIoNRIq9QKBQZjBJ5hUKhyGCUyCsUCkUGk3aRF0JcIoTYJ4Q4KIT4WlpOcv/9UFMDBoP2/f7703IahUKhGHXSrF9pLaEUQhiBXwMXAnXAu0KIJ6WUu0ftJPffDzfdBG639nttrfY7wPr1o3YahUKhGHXGQL/SHcmfDByUUh6WUvqAh4B1o3qG227r+wPpuN3adoVCoZjIjIF+pVvkpwHHo36vC2+LIIS4SQixSQixqaWlJfUzHDuW2vYpjOodoFBMMMZAv9It8iLOthilkVLeLaVcLaVcXVISd1Xu4MyYkdr2Kcr+pm5WfPd53j3aPt5DUSgUOmOgX+kW+TpgetTvVUD9qJ7h9tshOztmUygrS9uuiPCDp/fS1etn54mu8R6KQqHQuf12pMUYuy07e1T1K90i/y4wVwgxUwhhAa4FnhzVM6xfD3ffDTNmIAFPnpWff+jLeK65dlRPM5nZeKiVl/Y2A9Do9IzzaBQKRYQrzoXLLTgddqQQUF2t6dkoFo2kVeSllAHgZuBZYA/wdynlrlE/0fr1UFuL2PBjbP9l5d+VVZxyx4vc/q/dHGntGfbTPr2jgX2N3aM40LEnFJL84Om9VObZKHNYaXZ6x3tIinGmvcfHV/+xHZc3MN5DUWz/O2KpmSs/eydHmpxw9OioVwWmvU5eSvlvKeU8KeVsKWV6cygrbwSjhfuX7eC02UX86Y2jnPfTV9h4sDXlp2rp9nLzg1v4/WuH0zDQseOfOxrYXtfFly6az/SCbBq7VCQ/1XnjYCt/23Sctw+3jfdQpjZSwrYHqXcs46isoDI/Ky2nyawVrzklsPhqyo88ym8+MJeNXzuPLLOR53Y3pfxUT2w9QTAkaemevJGvNxDkx8/uZWGFg6tOmkZZno0mla6Z8ugf9CO5y1WMAg3boGUvb+VcRHGOFZvZOPRjhkFmiTzA2pvA54It91HqsLGsKo/NtR0pPYWUkoc31QHQ6pq8Iv/87iaOt/fylYvnYTQIyh02Gp0eVUo5wdl4qJW/vnk0bc/fEBb5o21K5MeVbQ+B0cIznMq0gvRE8ZCJIj9tFVSfDm/+GgI+VlUXsKfBSa8vmPRT7Kp3sq+pm2yLkTaXL42DTS+PvneCyjwb58wrBaDcYcPtC9KtcrETmvvequVbT+5KKbWWygd3o7MXgKOt7iGOVKSNgBd2/B3mX8oBp4mqNKVqIBNFHuCML4CzDnb+g5UzCgiEJNvrOpN++D8212ExGnj/SdNo6/FOysi3pdvLhv0tXHXSNAwGbblCqcMKQJPKy09oOnr8hCT87d3jQx8MPLaljlPveCnpVFyDSteMP3v/Ce42Qis+yonOXhXJp8ycC6BsCbx+JydNzwNg87HkUjbeQJDHt57gwsVlzCrJwR+UdPX60znatPDktnqCIcnVK/sWGJc7bIAqoxwL7vj3Hh7elJxI96fDrd09/u3dYwRDQwcYT26tp9Hp4TtPJVe4pt8h1Hf14vEnf4erGEU2/Qnyq2ktPw1fIMQ0FcmniBBw+n9B6z4K615iVrGd92o7k3roy3ub6XT7+eCqKopzLMDkzMs/+l4dy6vymFOaG9lWnhcWeRXJp5VAMMS9G4/ywp7UJ/xBE/niHCv1XR427G8e9FhvIMhbh9spslv4945GXhzinMGQpLnbS1VBFlLC8XaVshlzWg/C0ddg1Y2c6NS0RYn8cFj8fsifAa//jJOm57PlWEdSaZd/bK6jNNfKmXOKKcnR0hutkywvv7fRya56J1evrIrZXhaO5FWFTXo51NKDNxAaVh26lJIOt591KyopzrHywNuD3w1sOtpBrz/I7e9fwtzSHL75xC7cvsTnbXV5CYYkp84qAlTKZlx4714wmGDFRzjRqc2PqHTNcDCa4LTPQ927XJJ7iLYeH8eGiFqklLx+sJVLl5RjMhooioj85IrkH3vvBCaD4IrllTHbbWYj+dlmla5JM7vqNesIlyd1ke/1B/EFQpTkWvmmcwvf/vxlyEF8xjfsb8FsFJw5t4TvX72UE529/Pz5/QmfX8/HnzpbE3lVYTPGBLyw9QGYfxnklnGiQ4n8yDjpI5BTxunHfwfIIUspXd4AHn8o8gePpGsmUa18MCR5bMsJzl1QSqHdMmB/ucNGY9fkuZ7JyK56J8Cwqpjae7S7xuWv/ovLf/UtqpwtCCn7fMb7Cf2r+1tYU1OI3WpiTU0h166Zzj1vHI08T38auzRRmV+eS0G2mSOqwmZs2fMUuNtg9ccBONHZS67NhMNmTtspM1vkzVlw5pfJbnibC617eG+IyVe9XLLIrkXwBdkWjAZBW4I3zERk6/FOmru9rFtRGXd/mUMtiEo3I4nkO93aJP+K3/4YQ29v7M5+PuNNTg97G7s5a16fe+sVyysJhmRkDP3RI/lyh42aYjtHVbpmbNn0JyiogZnnAFDX0ZvWfDxkusgDrLoR8qbzNcvDvHd0CJHv0SLc4lxN5A0GQaHdMqnSNc1hAZ9VnBN3f7kS+bQipWR3OJIfTk5er6yxNZ6If0CUz/ir+7X+C2fN7RP5hRUOAPY0OOM+vLHLg8VooNBuYWaxXaVrxpKmXVD7Oqz6mNbqDzjR0UtVGlM1MBVE3mSFs7/KbP8+qlpeHvSN19KtR/J9aY4iuyWyfTLQEY4EC+zxb//KHFZaXV4CwdBYDmvKUNfRi9MToDTXitsXTKoEMho9zRKYVhV3f7Cqb/uG/S2U5FpZWNFXQVVot1DusLGnIb6xXkOXh/I8G0IIZhbZaejypLRQUDEC3votmLI0jy20gOBEp4rkR4fl1+HOreELxofZfixx04xIJB+ecAUoybVOqkhejwQLsgfm4wHK8myEJLRMomuaTOhpkpNnFgLQM0ilSzz0dI3nO98Da+wHtdds5o4zPsrGQ60EQ1qRwFlzSxAitjfPworcQSN5vZS2ptgOQG27iubTTk8rbP87rLgOsrXXhrM3gMsbSOukK0wVkTeaCJ19KwsNx/FufTjhYXpOPnrCsjjHGhH/yUBHj48sszGh2VFkQZSqlU8Lu+udGASsri4AUs/L6x/SWR/9CHyoHIqytHUf+SYCH13GM8vP4/rfv831v3+LTrefs+YVD3iOhRUODja78AYGRugNzl4qwiI/MyzyR1qUyKedzX+CoBfW/mdkU12nNuk9LT870aNGhakh8oB95YfYJWtYeeAX4ItfUdDq8pKXZcZi6vuzFNkttE6ydE1BduKZelUrn1521TuZXZJDSa72d041L9/p9uOwmTC17oHZXfDsbyAUgsf+F3vVAV78aDlfuGAeW493YhBw5tyBLTMXVjgIhCQHmlwx26WUNHV5B0TyR1RePr0EfPDOH2D2+VAyP7J5LMonYQqJvDAYuSvr0+T5mmDj/8U9ps3loygnNs1RnGul1x+kZ5KYenW4fRTEKZ3UUate08uueieLKx3k2EwAdKcYybf3hP9/e54EYYD579N2rPkkmGxY3/0tt1wwl5e+fA4P/+epcctkE02+tvf48AVDVIQ/6HOsJopzrKrCJt3sfhxcjXDKZ2M2RxZCqZz86NFUsIo3bWfC63dCV92A/a0ub0w+Hvry85MlL9/h9iXMxwMUZlswGwWNqkPUqNPm8tLo9LC4Mo8cqybyqUbykf/f7idhxmlajwQAezGsuF6zp3XWMy0/i1XVhXGfY2axHZvZMGDyNVI+mZcVdWy2cqNMJ1LCW7+B4nkw+7yYXSc6erGaDJH1OOliSol8ucPGneIjIEPwwrcH7NdEPvYPXhTxr5kcKZtOt5/8QdI1BoOgNFeVUaYDfRHU4kpHn8inGMl3uv0sNDdCyx5YdGXsztNvgVAQ3oh/J6pjNAjmlw2cfNXv3vScPEBNkV2la9LJ0degfguc8plI2aSOXlnTf+J8tJlSIl/msLK1Ow952udgx8Nw7O2Y/W09vshCKJ2SSRbJt/f44t7CR1OeZ1PpmjSgi/yiqHSNy5uag2l7j48z/G9qvyy4PHZnQQ0sv06bxOse3IhsUaWDPY3OGL+mBmcckS+209LtVf1e08VrP4WcMlh+/YBd6bYY1pliIm/DGwjhXHUz5FbCP78AQe1N6A+G6HT7J3W6JhiSOD1+8gdJ14BaEJUudtV3MS0/i/xsS1S6JrUa9E63j5WuDVC1BvKmDTzgzC9C0Adv/nLQ51lY4aDT7Y+kaECzNDAZRMSTCfoqbFRePg2ceA8Ov6Ll4s22gbvHYLUrTEGRB2j0mOB9P4XmXfDGL4C+RSj9J171qHgydIjq6vUjJYNW14DWPES1ARx9djdok67AsNI1vkCIUn8dFb37YfHV8Q8qmg1LPwTv/lGrvU5AvMnXhi4PpblWjIa+9IAe1U/mXsYTltd/BrY8WP2JAbt6vAHaenxML0xv+SRMMZHXK0uanB5YcBksWgcbfgStByORev+cvMVkIC/LPCkieb3Gesh0TbgNoLpFHz1CIUldey8zS7TI2GgQZFuMKaVrOt0+Lje8iUTA4qsSH3jml8HfC2/+KuEhC8q1VbDRIh+9EEonL0sLCJyeydcYZ0LTsk8zIzv5JrA5BuzWK2vSbWkAaRR5IcSPhRB7hRDbhRCPCSHy03WuZCnL7dcZ6dIfa7dRT91Ca7e2rX+6Rts2OfxrOsJ3I0Oma/JUrfxo0xYuT6yMqlzJsZpS+iBtd/u4wvgm7cWrwBHfYA6Aknlav4R3fp8wms+1mZlemBVTYdPY5aEiL1ZUHGGRn4zdzyY0r9+pWRhELX6KRm/WUlUwuSP554ElUsplwH7g1jSeKyn0Hqe6iRe5ZXDh96D2dRy7NAvXorgib50UC6IivjVDpGsiaStlOTxqNIQtfKMnNXNsppTq5D11O5lnOEHXrCuGPvicW8Hv1ib2ErCw3BGJ5KWUEd+aaHLDE8ROJfKjR/sRrUn3qhu10tc41IUXQk0vnMSRvJTyOSml/gp/C4jvuDSG6E0zmqJrxFd+FGaezZKdP2SmaBiQk4ewyE8Ca4OhfGt0VK/X0ae+U69cGX4kn3PwSYJSEFhw5dAHl8yDFevh3T9A57G4hyyscHCkrYejrT04ewP0+oMxH0IAVpMRm9mAcxi2yIoEvPpjEEat5DUBx9vdWE2GSPVeOhmrnPwngKfj7RBC3CSE2CSE2NTS0pL2gZQ7bLHiJgRc9VsCwsIvLL8h1zRwMrI4xzIpGofo6ZrBVrxC34eAukUfHm8fbqOtX/pOb8ZRkR8VyVtNyU+8SknpsX+xMbQYR9EgqZpozrkVEPDyHXF3X7S4jCyzkYvvfJUfPLMXYEAkD+CwmVUkP1q0HoRtD8KaTw2acqsLWwynu0YeRijyQogXhBA743ytizrmNiAADOxdBkgp75ZSrpZSri4pGejDMdqUOmx96RqdvGn8veLLLBOHEBt+OOAxxTlWnJ5AXMOniUSH24/ZKLBb4puT6eg13ErkU6fXF2T9H97m7lcPx2xv6PJgMRlibKpTiuQbtuFwH+OfoVMHXcwWQ940WHuTJipNuwfsXlyZxwtfPJtz55fy4DtatN8/kgctL68mXkeJDT8Akw3O+MKghx3vcI9JPh5GKPJSyguklEvifD0BIIS4EbgcWC8nSL1eebh8sD8vG0/lBeuFWtlT7caYfXqefqKXUXaGl8QPFR0YDYJcq0lFb8NgX1M3gZDkUD/nxvouDxVhn3adHFsKIr/zEYLCyKvGUxI6iMbljC+C1QEvfjfu7sr8LO66YRX3fGw11508g8WVeQOOycsy4+xV6ZoR07wHdvxDq6jJGTxgrevoHZN8PKS3uuYS4KvAlVLKCWOOUeaw0dLtHdDModXl5ZHSm7VVhQ9/PGZFoV5WOdFFvr1ncN+aaFT0Njz2hicya/tZATR09kbmOnRyk43kQyHY+Qj77CdjyI7vR5OQ7EI44xbY/zQceS3hYectKOOOq5fG/QBx2EzqtTAavHIHWHIGzcWDVq7a1etn+mSI5IfgV0Au8LwQYqsQ4q40nitpyhxa04z+JZFtLh92RwFc81fwOuHhGyOrYfV2gBO9jHIo35poHCp6GxZ6tUptu5tQVKDQ0OWhst/qxRyblpMf8ia29g1wnuBV23nJp2qiOeWzkDcDnvma5m2TItprQYn8iKjfAruf0DxqhvigrmvXa+QnuchLKedIKadLKVeEv+IXjI4x8fzUpZS0uXxajXz5Erjyl3DsTXjufwAoDvvZTPRuSh3uoX1rdBw2la4ZDnsatbpzXyAUSfsFQ5Imp2dAvjvHaiYQkngDQ7Ra3P43sOTwsliV9J1YDOYsuOi70LQT3vtzyg932MxqfmYkSAnPfQOyi+C0m4c8/HiHltiY9OmaiUpZuFY+2qDL6QngC4b6Vrsu/aAWHb19F2x9kOLcyZGu6XD7hlwIpZOn0jUpI6Vkb4OTmiItAtObYLe6vARCkor+kbxVS40MWivv92gR4MIrae41DlkZlZBFV2nWxC/9L/R2pvRQR5YJZzJ3HIr47H9Wc5s8+2uajcEQ6DXykz6Sn6joedOmqJJIvRwupkb+wu9CzZnw5OfIPrGRbIsxbrrmuV2NbDw0cNXhzhNdcbenCyklnUN0hYpG3aKnTn2XB6cnwCVLKgCobdMisvrwEvWKfjn5PifKQUR+/zNaenDZNeE5lWGka0ArBb70B+Bu16w6UsBhMxMMSdyqoXfqBAPw/DehcDas/nhSDzne7sZuMQ7/f50iU07ki3I0g6amqEi+LVxfHmNpYDTDh/+qGUI99BHOcLTwzM5GDrf0tVR78J1j3PTXzXz/33sGnOd//7Wbmx/YEpO3TSfd3gCBkEx+4tVmVgtgUkSfdD1vQSkWoyESyetOj9E18qCla4DBu4rteBhyyglWn5mUg+igVCyHlTfAO7/TKj2SxKH8a4bPlr9C6z644NuaZiSBViOfPSY18jAFRd5oEJTkWGNy8vpCp/5e8mQVwPqHwWzjV/IO7L5WPnjXm2w93smD7xzj1kd3YDMb2N/kIhDsy7tKKdld76S9x8eOE11jcl3JLoTScWRplR/R41YMjj7purAil+mFWdSGOyrpIl+Z1z9dM0QLQHe7dqu/9IN0eUNJOYgOyfnfAmuuZqMdSu5/67CFRV5NxKeGt1urqJl+CixMwooiTF2He8zy8TAFRR60vHx0uqY1EsnHEcj8GbD+YSy+Tv6Z/1MqLT18+HdvcuujOzh3fgnfvmIxvkCIw1F+3PptPcCG/elfxQvJ+9bo6O6DqfYgncrsaexmemEWuTYzNUX2vki+sxeb2TCgMiZ3qHTN7sch5IdlH07aQXRI7MWaH9OxN2HrfUk9RDlRDpNXfwyuJrj4di1dlgRSykgkP1ZMUZG3xaRr9Eg+4RusYjlc9yAW51Eey/kxp1QYuHRJOXfdsIrl0/OBWEvXPeEOQXaLkVf2NafnIvqhi0Syt/uR6E29sZNmT4OTheWabWxNsZ3aNnfE+Ksib+AS9b7GIQn+xtv+BiULoHxp0g6iSXHSR7RJ2Oe/OajnvI4jS5mUpUzrAXjzN5p/UNXqpB/W6fbj8gbGxGJYZ+qKfHd0Tt5LQbYZk3GQP8ess+HaBzC37+fPpu/z2w/MxmoyMrskB7NRsDta5MM/X3fyDLYe76TTnf6qnM4UI8FIHlbdoidFry/I0dYeFoSbcdQUZdPrD9LS7aW+qzeuXUBk4jXe3VLbITj+ltbOT4iU78QGRQi4/OfgdUXKgAdD/8BXZZRJIqW2JsGcpeXiU0Avn1SRfJopz7PR6fbj8WvVBG0uX1yL4QHMOR8+fD807YK/XAmuFiwmA3NKc2N8u3c3OKkuyuayZRWEJLx2IP1VNu09qYmEQ/nXpMT+pm5CEhZVaM04qovCbfPa3DR0DvRph6icfLx0zdYHQBhg2YeB5B1Ek6Z0AZz+ec3X5tBLgx7a94E/+V8LHn8w/a0M9z8DB1+Ac74GOaUpPXQsLYZ1pqTIl+bqvvJamqbV5Y2fj4/HvIvg2gegZT/cczF01LKwIjc2XRO+rV9elU9+tplX9qU/L9/p9mEQfVHZUORlq3RNKuxt1P6/C/R0TVjkD7W4aO72UJk/MJK3mgyYDGJgJB8KauI7+3xwaOWYqU6cJ8VZ/w3F8+CJz4HHmfCwiKd8BszP/Oblg1z6i9ciAdyo4/doUXzJAs2jJkXGslmIzpQUed1uVV+xmHQkrzPvIvjoE+BuhT9exOm5TbR0e2l1eenxBqhtd7OwwoHRIDhzbgkb9rekvZRSXwhlMCQ3AdRXUaFEPhn2NHSTbTEyI9yTszLfhskgePdIOyEZ38JXCEGOzTSwhPLIq+A8ASuuj2xK1kE0Jcw2WPcb6K6H57+R+DCjgWyLMSNeC68dbKXXH+Rgs2vog4d1gp9Cx1G49IdJl0xGU9fRi8Nmikx2jwVTUuR1a4PNtR08ua2eRqeH4lQjqBlr4ePPgBCse+8TnG/YzJ4GJ3sbu5FSK7MDOGdeCa0ub0zOPh109CTvWwOqNjpV9jQ4mV+eG/kQNRkNTC/M5s3DbcDA8kmdHKtpYLpm6wPaysj5l0U2dYY/pEe9dnr6Gjj1Zth876BpG23dxOR+Lbh9AXbUaSXL+xq7hzh6GDTvhdd/rqXYZp0zrKc43uEek+bd0UxJkdejrh8+s5fPP7gFXyDEyuqC1J+obBF86kUonM3vzT/D+ubP2VOvvcgWVWq39WfN0yxH011K2eFO3oEStMofo0GonHwSSCnZ29gdSdXoVBdlJ1wIpTOgcYinS2vwvOSDWqQdprnbG+NFP6qc+3Uomjto2saRZZr0k/Dv1XYSCN8x72saZZEPheCf/wXWHLj4+8N+Gr1ZyFgyJUXeYTPzy+tO4mfXLOffnz+TXd+9mHUrpg3vyfKmYfrUszxnPIOTD/+aFW/dwjSbl2lhH5OSXCtLpjnYkOa8fIfbn5LICyHCJmWT+409FtS2uenq9bNkWqzI63l5IO7EK2j57pg6+V2PQ6BXK72LYld9FwvKc0dtzDGYs+Cq32ppm39/Je4hmeBl9M6RNgxC+/Ad9Uh+y1+0tQcX/W/Cvq1DEQpJbSHUGObjYYqKPMAVyyu5emUViyodWE0jzIOas3io6hvcbfsEC7pe4zHjVxHH34nsXlyRF1k4ky46huF7ojzlk2NzbQcAq/rd7VWHjcqyLcZItVJ/BnSH2vqANhk6bWVkU7PTQ5PTy9Kq/NEdeDTT12gTsdsf0hpb9CMT0jVvHWlnybQ8Vs4oGF2R727S1hxUnzHgwzkVmru9ePyhyOtmrJiyIj/aLKzM40fOC7k++F1MRhP86VKt92bAR352+q1cO9y+lCszlMVscmw+1kGu1cTc0thIW4/k+3eEisYena5p2a/Vxp/0kZgVkrr1xbKqoR0MR8RZX4GqNfDPLw5o/u3ImtyvBY8/yNbjnZxcU8j88lwanR663KNwPVLCv76oVdVccWfSK1vjoTeaqY66AxwLlMiPEgsrHARCknf8M3n5nEc0u+INP4DfncVc/168gVDayrp6fUG8gVDKNdZ5yokyKTYf7eCk6gKM/SqX9Iisf7OQaHJtUROvW/4CBpO2ACqK7XVdGAQsqnDEeYZRxGiCq38PMgiP/kdMg5HJnrrbdrwTXyDE2llFzC/TPoxHJS+/8xHY+0847zYonjuip9JdS1UkP0nRF8kAzJ1RCVffDdf9DbxOPrDl43zbdC/O9vRYHLRHFtKkmq4xZURtdDrp6vWzv7mbVTMGTsxXFWRjNIi4q111IhOvQT9sewjmXTJgAc2OE13MKc3Bbo2f8hlVCmfCZT+GYxtjLIkdWWa6Pf4xc00dbd450o4QsKamgPnloyTyrmZtDmPaaq1CKUk8/iDn/uQVHt9yImZ7bXsPJoOIzNeNFUrkR4maIjtWkwGDgHnhSIL5l8Bn3+LorOu5wfg8Rfes1fwuAqNrczBc3xOHTUXyQ7H1eCdSDszHA1hMBm67bCHXr61O+Pgcq5lef5DgvqehpwVOuiFmv5SS7XVdLJ2WP9pDT8zy62DZtbDhh3D4FUB7LYQk9Pgm54f+20famV+WS362hYo8G7k2E/saR1C2rKdpfD1w1W/AkPy83Ut7mznS2sOrB2KLLWrb3EwryBrcPiUNKJEfJUxGAwvKc5ldkhPbLNnmoO7U73CZ7w5chUvh2Vvh1yfDlvsiPWRHit6WcDgTr5M5DzsWbK7twCBgxYz8uPs/ccZMVkyPvw/6/GtCm/8CuRX4Z52HL6odYKPTQ6vLm/58fDRCwOU/0yaAH/kUdDf2mZSleGdX39kbcz3jgT8YYnNtB2tnar1VhRDML8tlf2P8BVGtLi+/eOEAwcHuWnY+opW6nnsrlMxPaTxPbasHNCuMaGrb3GOejwcl8qPKd9ct4QcfWDpge16WmX1yBu+c8Ue4/mHN7/uJ/we/XAWb/gQ+94jO++Dbx8i1mSK1+cmSl2VO61xBJrC5tp0F5Y6ID02q5FpNlNGO6fCLsOJ6PvXXrXzqL5si+7eHF+8sHUuRB7DY4Zo/ayZmj3wKh1WTglTu7Bq6ejn3J69w31u16RplUuw40UWvP8jaWUWRbfPKc9nb6Izb0vDpnY38/IX9MVYkMXTVaVF81clw6udSGku3x8+Le5sxGgQHmlyRDxIpJUfbeqge44VQoER+VFk+PZ9V1QM7tetLmLs8Ac0S4T9e1fL12YXaAoufL9JKtPpVPCTDrvountvdxCfPmElukr41OnrZX7SnfJPTg181EgEgEAyx9Vgnq2uGsVAuTI7NxAeMryJkiO4F1/LagRZe3d/CznBFzY66LowGkf5J13iULoT3/RSOvsbSfb8EUhP5v75ZizcQijgrjhdvhA0A19T0vfcWlOfi9ARocg5s2dkctjOJW9YcCsHjn9Ha+l39O22yOgWe392ELxDimtVVeAOhSEVNp9tPtycw5pOuoER+TMjP0nLlkdSIEDD/EnwffxHntY9rvWQ3/gruXAb3Xg5b7te6ziTB/714gFybiY+fPjPlcfW3NnD7Apz3k1f427vHU36uTGRfUzc9vmDcfHyy2C0GrjFuoLv8FF5pzSEkwSDgntePALD9RBfzynJjU3xjyUnrYdXHqNp1F5cY3kk6fdfrC/LAO1pQ0t4zfg3uO90+/vjGEU6bXURJbp//lD4vtjdOXl43JozrVvn2XZq30CV3QOGslMfz1LZ6puVnce2aGUBfyqa2Xa+sycB0jRDiy0IIKYQY3jKxDCDXZkII6OrnK/+bDYc45+EAnqvvhVu2wTm3asZVT3wWfjQb7r9GS+d0N8Y+4f33Q00N0mDgGzdfxg88O4dleKSLvP7GPtzSQ48vSENX77CuM9PQF0GtjFNZkywV7e9SY2ji+MwP8fK+ZvKzzaxfW615JnV52FHXybJpY5yq6c+lP8JbvoqfmO9CtuxN6iGPbz1Bp9uP3WIcV5H/+fP7cfb6+cbli2K262WU/fPiAM3deiTf7w6kaTe88G3NU2jlR1MeS0ePj9cOtHL58grmluUgBOwLzwv01chnWCQvhJgOXAiknofIIAwGQa7VNCBKOtraQ3uPj5f3NkP+dDjnq/C59+CTz8PqT0DLXi2d89P58KuTtUUsP7wFPv1pqK1FSEmVs4XL/u+bmvCnSH8nyiPhyKbHq3L0oIl8mcM6Iq+RioMP0SFzOFxyPhv2tXD2vBI+deZMglJyx9N76HD7xz4f3x+TFc/7/0QvVk555/Oav84gSCm55/UjLK50sHZW0biJ/L7Gbu57+xjXr53Bwn7prgK7hdJcK3vjrHxtihfJ+3vhH5/QjOOu+L9hLXp6ZlcjgZDkimWVZFtMzCjMZl+Tdieh18jPyMCc/M+B/wYmZ/HtKJKfbRkg8m3hN8eT4dl4QHtxTT8ZLv2BFt1/5k244Dvah8C2h+COX0JvbKQtet1w220pjymvX0XF4RbtRZ+wJ+kUY3NtB6uqC4bvDNnTSs6RZ3g0eCZvHHXR1uPjvAWlVBfZuXBhGU9s1f7vY1pZkwB78XQ+67uFnN46+McnYxZK9ef1g60caHbx8dNnUmi3jIvISyn57j93kWM18aUL41e/zC/PTRDJh0U+OpJ/9jZo2QPvvwtySoY1pie31jOrxM7icAHE/LLciL1CbZubcodtXNJyaRN5IcSVwAkp5bYhjrtJCLFJCLGppWVsml6PB3lxyhVbXdqb48W9zXTH8w0RQnO6POO/4COPwNdqIVHp77HUb5b6R/KHW7VbywH+51OQjh4fdR29g5ZHDsnWBxAhPw8Gz+XpnQ0IAWfN1QTkk2docyhmo4gs3hlPTEYDeyxLeHr6l+Dg8/DCtxIe+6c3jlKcY+GK5RUU2S209fjiVrGkk2d3NfHGwTa+eOG8hHYe88tyYypcQJtMb+vxkmU20uryau+7PU/Bpj/CaZ/Xur8NA5c3wFtH2njf0opIUDC/PJejbW48/iC1bT3jkqqBEYq8EOIFIcTOOF/rgNuAbw71HFLKu6WUq6WUq0tKhvcJOhnIyzLT2T+Sd3mZW5qDLxDiuV1NQz+J0QwzZsTfl2j7IMTLyYOK5AFOdGp3SzMKhzlRJiW892fk9FM4KKvodPs5aXp+RJBOnlnI8qo8llXlj9wgb5Rw2Ey8knu51vFo4y+1AoB+dHv8vLS3mQ+vmY7VZKTQbsEXCNHjG7sUX2OXh68/toMF5bmsX5v4dT+7NAdvIBQzx9Tq8sUsbquvPQhP3AyVJ8F5iRurJDMmKWFOaU5k27yyXIIhyaEWF7Xt7skp8lLKC6SUS/p/AYeBmcA2IcRRoAp4TwhRPvIhT076R/KhkKS9x8cFi8qYlp8Vm7IZhMD3/hePuV8XK7MBvvedlMdkMxuxmAw4PX6klBxuUZG8Tn1Y5OO19UuK2jeg7SBi1Y2Rbk/nLeizMxBCcO/HT+Z3N6wa8VhHC4fuZXTxHTDzbG0+qPbNmGP01MzMYk3M9A+tdtfYpGwCwRCff3ALHn+QX12/ctDVo/pcit5XFfomXdfOLMREgJJnPwOhAHzgj2Aavp9/a3hBYklUhzn9Dm3r8U5aur3jUlkDaUrXSCl3SClLpZQ1UsoaoA5YKaVsHOKhGUtedqyFgNPjJxCSFOdYuWJ5Ja8fbKXNNbCmtz9/nXU6/33xzfRWVGnpnMpSuMICM4bni6NZGwRo7vZGojE18UpfM5AEPvFDsvlesObBoqsinjTnzI/1rCmwWyhOpe1kmolYTxtN8KF7IW86PHQ9tB+OHKMHKno1l97opK1n6NfuaPCz5/fzztF2vv/+pTFRczx033a9ryr0lU+urinky6aHKWzfAlf8Aopmj2hcLeE8f3FUGefMYjtmo+D53dpd+qSM5BXJo0fyeu5Sz8cX51i4cnklwZDk3zsH/wzsdPu484UDtK/7ELYTx7SFGyea4MPXwKs/htaDKY9L6wjk51A4ii9zWDMyXSOlZE9D/BWQ8ajv6sViNAyvW1NPG+x+ApZdA5ZscmwmSnOtkQm5iYpmPR3+32cXwvqHAamV8vZq5aT9Rb5Qj+THYPL11f0t/OaVQ1y7ZjpXnTR0k5/K/CyEiI3km8KR/Hzn6/yn6Sk2FqzTHGNHiC7y0ZG82WhgdkkOGw9qLSKrh5v6GyFjIvLhiL51LM41UcnLMuMPStzhaFl/UxTZrSysyGVOaQ5PbR08ZfPIeyfo6vXz9csWxlZ8XPpDMNngqVs04U9xXE6PP5KPXzotf9KaVA3G1uOdXPqL13hhT3J3PA2dHsrzbEk3Ro9h2wMQ9MHqjwPwvqUV3HTWrNHv3zrK6B/4EYpmw7UPQGct/O0GCPjiRPKaqLWNgcj/bdNxSnOtfPvKxUkdbzEZKHfYYlbkNju9TBOtFDx3C0dMs/ml+ROjMrZWlxezUQxYrzKvLBdfeAX5DBXJZzZ5/SY59dRMUY7WvPn9J03jnaPtkeXu8XjzUCvVRdkDPWpyy+Gi70Ht65pneQroTpRHWnuwmQ3MKc3JyJz8sfAt+6Pv1SV1fENX76AWwgmRUkvVTF8LZZoYfemi+XzqzNRXT441cbtDVZ8G634NR1+DJz8XWdAXieRztEi+YwxEvqnLw6wSe0pliNMLsmMi+bYuF3dZf4kIBnh45vc40D46r/WWbi9FduuAoEDPyxdkm4e1YHE0UCI/RuT3E/lWPZIPv0luOLWavCwzP39+f9zHB0OSt4+0c9rsorj7WflRzR7huW+CsyHpcWl52ACHW1zMLM4h12bCH5R4A5mVl9dvp1/c25xUm7v6Ts+gzUAScvQ1aDsIqz6e+mPHGUeWGZc3MNBTftk1cO5tsP0h5u/5P6BP5O0WbfJ+LNI1Td0eyh2pffBWFWRRF5WTP6f2FyzlAKz7FbnTFvSVUY6QFpc3xlZBR195O16TrqBEfszQ3xSd7thIvjDsAe+wmbnprFm8uLeZLcc6Bjx+V30X3Z4Ap8xKIPJCaBNIAQ88Hb9ZczwcNm0l7uHWHmaV2COVIJk2+aovgPEFQjyzY/C5j2BI0uj0DC+S3/QnsOXD4qtSf+w447CZkBK6vQF6fUF+t+FQX4R+1ldg5UdZXftH1ptewWbWpEMIEamVTydSSpqcXspSFfnCbBqcHs0OeecjXND9OM/kfgAWX0VNOH1S29/eYBi0dCcQ+XJd5McnVQNK5MeM/jXpbS6t92t0CdjHTquh0G7hZ3Gi+TcPaZM3pyYSedByqOd8TVvcsfuJpMalTwgfb3czu9geqQTJtJRNs9PD9MIsqouyeXzriUGPben2EgzJ1CN5V4v2t19+HZjHtvvPaKC/Rlu6vXz6L5u44+m9vLg3PIchBLzvZ+zLXct3TH9AHHwh8rixWPXa1evHFwhROoxIXkpoObIdnvw828R8Xpnx/wCoKdai67hulCnS6vLGTLrqTMvPYnaJPcYhc6xRIj9G5GfHri5t6/EOqNywW03859mzeO1AK+8ebY/Zt/FQG3NKc4Z+kZ/2OShfBv/6cqQiYjAcWWaCIUlIwqySnIhveqZV2DR3eynNtbFuxTTePNxGU9huNh71XcOskd96P4T8kQnXyYZ+t/mZ+zbz+kGtTqI9ujTSaOau0m9wxFADf/8onNgMaCKf7ki+Mfz/KnOkVnI6vSCbbDwUPPVJpMnGZzw3U+zQSi/16DquG2UKhEKSVpeP4tyBlVgGg+DFL53DR05J3D0s3SiRHyP6T7y2unwUxfnkv+GUGkpyrfzk2X2Rcj9/MMS7R9sHj+J1jGZY9ytwt8Gz/zPk4Y4oD/pZJXayMzWS7/ZSmmtl3YpKpOzr3hOPhs5h1MiHQtqEa/XpKXcSmijor4UDzS7uuHopFqOB9p7YfHWz18wdBd8Fe7FWWtl2KBzJp7dOXjcVSzldk2/jR+a7sTkP0/m+u6iXRZSGPyiyLSbKHNaBbpQp0uH2EQzJuJH8RECJ/BiRYzVhNAg6e7WIp83lpThn4Cd/lsXIzefO4e0j7TwXXkSxva4Lty/IqYkmXftTsRxOvwW23geHXhr00OgZ/5nFdnKsWk4+4yJ5p4fSXCuzS3JYOi1v0JSNvgy+MhWRP/IKdByZlBOuOtVF2dgtRr63bjHXnTyDArt5gHh39fqROWXwkUdBhuC+D1BlcaV9xat+51WWm5rIV+67l8uNb/HajM9wIv9kAEqjnqO6yD7iSF5f81KS4tjGCiXyY4QQIjLJCVpdsV5j3J/1a2ewoDyX7z61G7cvwFuHtXx8wknXeJz9VSiao9XOe+P3ugQivT1Lc63k2sxROfnMmXj1+IM4PYFIqmvdikp2nnBysDn+36W+00O2xRj52yTFpnsguwgWXTkaQx4XKvOz2P7ti7nh1BoACu3WAZF8V69fCwyK58L1f4fuRj56+L+Rvp60tpHUuzmVppKuqd2I8flv8KpxLY9mfTBiaRD9HDOL7COO5COrXeMEbRMBJfJjiGY3HMAfDNHp9kfKJ/tjMhr47rolnOjs5dcvH2TjoVYWlOdGVhcmhdkGV/5Kayn40vcSHqbfos8q0Sah7JawyGfQgqj+qxHPnqcZ4SVak6DXyCe9eMnZAHv/DSuuB9PEvGVPFmNUnXdhvEje7e+7+5u+Bj50LyU9+/it+U46ukc+gZmIJqeX/Gxz8jXy3Y3w8MegoIZ7S77K8Y7eiKVBaVQVTHVx9ojLKFtc2odHvOqaiYAS+THEEa5k6YjUyCd+UZw8s5CrT5rG3a8e5t2jHcmnaqKpPhXWfBre/h0cezvhmECbdAUiE6+ZlJPXyydLwhFcRbhqpjHB5Gt9Z29qlTVb7gMZnNSpmngUZFvocMea6nV7A7GLeuZfwq6V3+Fs43Zs/75FWwyWBpqcnuRTNUG/JvDebvjwfRQXF2sir78OosS4Jly/fqx9YDQfSLLXcUuc551IKJEfQ/KyzHS5fX2+NUNE5rdethCbyYgvEOK02cPsnnjBtyCvCp68GfwDRa0ox4LZKCKddTKxhLJFv00PvwlzrCZyrSYauxKIfFcKNfKhILz3Z5h1zohNriYaRf1KI7s9AaTsCwx0PEvX8xP/hyg4+KjWPi8NNHV7k0/VPP9NOPYmXPlLKFtEVUE2Ld1ejrW7Kcg2x1g76//n/tVWh1pcLPrms+xpSNTAoY9Wlw+ryRAJkCYaSuTHkPxwJK879g0WyYMWGXz9fQspsltYO2uYdbbWXLjiTmjdr5mY9cNhM/Ovz5/Jh1dPBzS/D4vRgCuDcvJ6BBc94VaeZ4vby9YXCNHq8iZfWXPwBeg6nnFRPGgumV29fvzhiLa/b03kuGwLvwpexeGaa+GNO7U7x1GmqcuTXGXNzkfgrd/A2v+MGI9NL9T+l1uOdcS8BkB7HUCf66jO7nonvmCIbcc7hzylvhBqonoTKZEfQ/SFR22uWEuDwbju5Bls+p8LYkodU2bOBbD8enj959CwfcDueWW5WEx9LwW71ZhRkXyz04vRIGLmNMrzbHEj+San1vxhWrLpmk33QE4ZLHjfaA13wqCv49BXaScSee04wSuzvwILLoenv5r0YrxkCIYkLS7v0DXyzXvhic/B9FPgwr55qKqw5fChlp4BdwMlOVYMQvsQiUYPAJKZlE202nWioER+DNFFPjIbn6C6pj+jEiFcfLtW/fHkzRAcXMDtVlNmiXy3hyK7JWZSsSLPNiB6g75mIRXJLITqqoMDz8FJH9HWJ2QYBf1shBOJfF6WGaNB0OYOwAf+oPUofuTTULtxVMbR1qOtQB7Ut8bbDX/7CFiyNS/8qAYguq88MCCSNxkNlORaB7wW9N+PtQ89mdzSHX+160RBifwYkpdlJiShtr0Hk0GkVqI3UrIL4bIfQ8M2ePNXgx6aYzVlVJ18S5x8bnleFi0ubyQVoZNSs5D3/qJNNK68cdTGOpHo7xUfEfnsWJE3GAQF2WbtOHMWXPcQFFTDg9dq0fUIiVTFJBJ5KeGJ/6c1N/ngn8BREbO7NNeKJWwfEi+vX56XNWASXl8Qd7R16Ei+1eWNaRYy0VAiP4bob47DLT0Ri+ExZdE67Xb6lTug7VDCw+xWU0aVUOqWBtGUO2yap0l3bIlg0pYGwYAm8nPO1wQtA0ko8nEsc2P8a7ILYf0/tB4H938wJVfUeEQWQiUS+bd+o6WHLvgWzDxzwG6DQTAt3AqwLI4YlzusA1J3erqmtq1n0EYz/mCIdrdPRfIKDf3NcbilJ+FCqLQiBFz2EzBatUVSCV68dqsp4yZeS/u9uSsSTLjVd/aSl2Um2zLEXdb+Z6C7AVaPTtOJiYjukNruTlHkQfvgu/7v4G6HBz6kpVOGSZ+lQZz3zLG3tWqaBZfDaZ9P+Bx6v9d4dwMVeVlxRN6DQUCPLxjjyxMKSf76Vm3Errq9R2sMrnLyCqDvzdHo9CQ16ZoWHBVag5Gjr2mlf3HIyaCJ12BI0uYaKPJ6VcWAN3dnkuWTm/8EuZUw9+JRG+tEQ8/Jd0RF8majICvOgqQiu3WgSVnlCrjmL9C0G/5+45BzQYlodHoQgoH9cHtatXr4vCqtsckgd8b65Gv/1wFodwjd3kAkRekLhGhxeVk6LQ/QonmdrXWdfOPxndz3Vi0QvdpVibyCPidKGOcXRXSDke6B3up2S+ZMvLa5vIQklPSL4Poi+dgyyvquJJqFdNTCwRdh5Q1a0+sMxWw0kGszxaRr8rLMcdOMms9NHP+auRfA5T+HQy/Cv788rMVSzU4PRXYr5ihbbkJBeORTmhHfNX+BrPxBn0Mvo+yftoO+14L+ga9XWJ0SXoAYnZffUaetkn4p3EayxTWxF0KBEvkxJfo2NyWLgtFGCLj8znCDka8O2G3PoInX5jgNlkH7X9jMhri52CEj+ff+rP0NV350VMc6EYleEOXs9Q9YCKVTaLfS6fbHXyW66kY44wva3c/GX6Y8hianh/K8fiL66k/g8Mtw2Y80Q74heP9J0/jKxfMjYh9Neb8FUXoK7+SaQgwCaqNWw+4IW2G8d6yD9h5fJJKPd4cwUVAiP4ZEi/y4pWt0iufA2V+B3Y/DvqdjduWESygHm3CaLETehP3yuUIIyh02GqKqKnp9QTrd/sEj+aBfszGYe5GWJshwCqJEPmJOFge9pj7aBiGG874Ji98Pz38j5Rr6Jqc31tLgyKta8cCyDydd2VSRl8X/O3dO3LsQvTRTF3f97q66KJvK/KyYdM3OE11U5NkISdiwv1mlaxSxZJmNmI3aiyzZGvm0ctotULoI/vWlmIkxu9VESILHn5x3x0SmuZ+lQTTlebaYRTCHWzVXyumFg7Rq2/8MuJpg1cdGdZwTlcLs5ES+fyXOAAwGuOq3UHUyPPofUL816TE0d3v6JkxdLVoNftEceN/PBs3DJ0uiSL48L4uaKJfKXl+Q/U3dfGBlFSW5Vl7c00yry0uO1USWJfnm4mNNWkVeCPE5IcQ+IcQuIcSP0nmuyYAQgrws7c0w7pE8aAtGrvg/cNbDS7dHNtszyFNer7GOlzOtyMuKqa7ZHs63LgtPuMVl873ahOucC0d1nBOVwhQjef3YuHeB5iy49n6t4ciD18WdD+qPPxii1eXTKmtCIXjsJq3j2YfuBWvO8C6qHzazkfxscySCb+jsJddmIsdqoroom2PhSH53g5OQhKVVeZw3v5QN+1to6PRM6Hw8pFHkhRDnAuuAZVLKxcBP0nWuyUReeAHUUL41Y8b0NVoZ4Du/i0RXEbvhTBD5bs2iNtqUSqc8z0aT00MopAnS9rouHDZT4qbLU2TCNZpCu4V2tw8p5eCRfE6fyG/Y38IZP3yZHz8bZyFUTilc9yB4ujSh9w/0D4pGT4eUOWyaL86hl+DSH0D5khFdV3/KHTYau7RzNXR5Ig1jqouy6XD76XL7I9bUy6ryOG9hKd2eAK8eaJnQNfKQ3kj+M8APpJReACllcxrPNWnQ3yT9+7uOK+d/E7KL4Z9fgFAw4kSZEZF8tyfhm7Aiz0YgJGkNG8Ztr+tkWVV+4kVqW+7Tvp90QzqGOiEptFvwBUK4vAGcnqHTNb94cT833vMO7T0+fvvKIbbXdQ48uHwpfOD3UL8Fnrh50IobfSXqHP9eePl2La+fBjO48jwbjc5wJN/lidhaVIetiGvbe9hxooviHAvlDhtnzCnGYjLg9gXj9nadSKRT5OcBZwoh3hZCbBBCrIl3kBDiJiHEJiHEppaWljQOZ2IQEfmJkK7RycqHS+6A+vdg0z0Z5SnfPIhFrT7h1tjlweMPsq+xm2VVCVI1wQBs+atm9pY/PV3DnXDotfK1bW6kjL8QCjQnSoD9TS4+cfpMXv3vcynOsfK1R3bEr7hZ8D44739g5z8Gtdlodnqw08uyt78MuRVaVVgaVopX5EVH8n0VVrrf/NE2NztPdLFkWh5CCOxWU6TnckZH8kKIF4QQO+N8rQNMQAFwCvAV4O8iTogkpbxbSrlaSrm6pKRkJMOZFORnW8i2GIdeUTnWLPmA5on+4nfJC2rtBjPB2qAljqWBTvSCqL2N3QRCMrHIH3xeW+E6RSZcdfQ7zqPhvHSiEkqz0cCPPriMBz69lm9esYiSXCvfXbeY3Q1O7nnjSPwnP/NLsPBKbcXqoZfjHtLk9PId85+xdB+Hq+8esh5+uJQ5bLS6vLi8AVpdvoh30YzwJPy+Rif7m7ojC6QAzl9YCkzsGnkYochLKS+QUi6J8/UEUAc8KjXeAULAMDtfZA6XLa3gY6fVjPcwBiKEVq0Q8FC9+fsAk97aQEoZ19JAJyLyTk8krbCsKj/+k22+V7MUnpe5K1zjoUfyerPrRJE8wDWrp8c0t7l4cTkXLirjZ8/v53iczksIoVXcFM+Hf3wcOo4OPP/hJ/mg8VU488tQfdrILmYQ9Mhdfx3ov2dZjJQ5rDy9s5GQhCUxIl+G1WRgdsnoTACni3Smax4HzgMQQswDLEBrGs83KbhwURn/fcmC8R5GfIpmw+m34DjwOCeLPZM+XePsDeALhBJGWsV2KyaDoKHLw/Y6Ld8adyGUs16zFF6xPiMthQdD9685El71OZjI90cIwXfXLQbgD68djn+QNUeruJEhzSo4untZ1wkuOPxDdoj5iLMHLtobTXTzsy3HOgFi1kpUF9k53KJ9yEVH8tPys3j76+dz8eLytI5tpKRT5O8BZgkhdgIPATfKTFhdk+mc8UVCjiq+Y74Xd2/89niTBb1GPpHIGwyCMofWPGTQSdetYRFaOXUmXHX0qhk9XZOKyINWplpTZKc+QatFQAsu3n83NO6AZ8JiLiWt938Kgn6enf+dtFcz6emZLcc6gL67PICacLVVkX1gEJCfbcFgGP05gtEkbSIvpfRJKT8STt+slFK+lK5zKUYRSzbyou+z0HCc2bV/G+/RjIiWOG3/+lORZ+NQi4uDza74+fhQSKuqqTkTCmela6gTllyrCbNRcCSJdE0iinIstLm8gx80/xI4/b/g3ruhsgRpNFD89WfZeOBUbv7ARcMYeWqU94/k82IjedDq4ydqi7/BUCteFQMwLr6S1+UyTqn9Lbgmb+Wrbo2bn51YmMrzbGyv6yIkiS/yta9rueIp4FMTDyEEBVGrXocj8oV2a+KVsNE0zoF/+qChFSGBLsn5j7+A7e8PpXzOVHFkmcgyG2nr8ZGfbY5ZwapX2CwdbJHcBEaJvGIgQvBz0ycxhbzw4nfGezTDpjs8p6CXhMYjuqXc0mn5Aw94769gzYOFV4z28CYNeg28ySDIHsby/SK7ZaANcTy+8Q3wxZZbil433HZbyudMFSFEJEXTvyvYgopchIC1M4vSPo50oEReEZdWWzWvFlwNW+7XWgZOQnqSEfnwG7syzzYwd9/bCXuehGUf0pbkT1F0kU9kMzwURXYL3R5tEnxQjh1Lbfsoo3/g98+7zy7J4e1bz+eMuZOzOFCJvCIudouJx3Ku11q5PfP1YfmAjzcujyby9kFEXo/a4pZO7nhYs2OeQitc41EQJfLDQZ+87XAPEc3PmJHa9lGmL5IfOIeTsL/sJECJvCIuOVYTLQEbnHublpfe89R4DyllXL4AFpMBiynxy1x/Yy+Nl4/f8ldtCX7lijSNcHKgl1EmWgg1FPqCqjbXECJ/++34rP3ENDsbbr89/vGjTOSubqimMZMMJfKKuNitRnq8Qc2vu3QRPPc/EBiiQmKC0eMNDJqqAVhU4eCSxeW8b2lF7I7GHVqa6qSpOeEaTeFII/mwrfaQk6/r1/Ojq79Ea1G5tlCquhruvhvWrx/WeVMlUbpmsqNEXhEXe7hxCEYTXHw7dNbCW78d72GlhMsztMhnWYzcdcMqaortsTu2PgAGMyz9YBpHODkYuciHI/mewYOE4+1u/jDjVJ58fKNWunr06JgJPPRF8CqSV0wJcqJbAM4+T+uE9NrPwN0+vgNLAZc3OGg+PiFBP2z/O8y/VJuTmOKMVOSTTdds2K8ZFJ49f3w8rM6eV8IPrl7KmprM+p8rkVfEJbt/M+8Lvg1eJ7z203EbU6q4vH5yhyPyB54Hd6tmY6AYscjnZZkxGsSQ6ZpX9rVQVZDFrP53VWOExWTg2pNnYJzgK1hTRYm8Ii45ViM9vmCkoQZli2HF9fDO3dA5NiVtI6XHG4x0uUqJrfeDvRTmnD/6g5qEjFTkDQZBQbZ50Fp5XyDExkOtnD2vZFKuKp3IKJFXxEVPc7j9UU6U59wKCHj5++MzqBRxeQPk2FIUpp5WrY/rsmumnBlZIirzs8ixmphTNny3Ra2NYOKc/Kbadty+IOfMLx32ORTxUSKviIs9XuOQ/Omw9j9g20Na9ckEx+UNkJNqJL/jHxAKaHctCkCL4Ld96yLOmTf8XHnRENYGG/a1YDYKTp09OVeVTmSUyCvikpOoBeCZXwSbA1783jiMKjV6vIFIv9qk2Xo/VCzX0lOKCEaDGFEapTBncGuDDftbWFVdMGQ1lCJ1lMgr4hI3kgfIKoDTPg8HnoW6TeMwsuQIhiRuX5AcWwqi0bQLGrfDchXFjzZFdkvCSL6l28vexm7OnJv5neHGAyXyirjoE5Zxm3mv/Q/ILprQuXm9dWFKkeH2v4Mwqtr4NFBot9Dp9uOP0+914yGtl9AZcyanN8xER4m8Ii59zbzjtAC05sLpt8ChF+HYW2M8suTQfWuSFvlQSPOqmXMB2JXYjDZ6rXw8/5rXDrSSl2WOaa2nGD2UyCviEp2uaXV5ufGed3hqW33fAWs+rZUZvvS/4zTCwdHTTEkvhqp9A5wntKoaxaiTyNpASskbB1s5fU5RxtWnTxSUyCviokfA+5u6ueauN9mwv4U3Dka16LVka5OwR1+DI6+O0ygTk4yXfAzb/waWHJh/WRpHNXXRa+3b+616PdTSQ0OXh9NVqiZtKJFXxEWPgH/zyiFaXF4K7ZaBt9qrPg65FfDKD8dhhIMT8ZJPZuLV74HdT8DCK7UPL8WoU5Sj+9fEvob0wOHMOWrSNV0okVfEJdtsxGQQFOdY+dtNpzKnNIcOtz/2ILNNq7SpfX3C5eYj6ZpkSij3P6NZNqhUTdqIRPL9RP61A61ML8xiRpH6cE0XSuQVcTEYBL+7YRWPffY0FlU6KMg209Vf5AFW3ahV2kwwT5vu8MRrbjKR/I6HIaccZp6V5lFNXQqyLQgRG8kHgiHeOtzGGSqKTytK5BUJOX9hGdMLtQgrPytOugbAYodTPgMHnptQbQKTnnh1t8P+Z7WyScMwfG4USWE0aA3B21x91gbb6jpxeQOcOUnb6k0W0ibyQogVQoi3hBBbhRCbhBAnp+tcivSTbzfT2etHxmsDuObTYHVoVsQTBFdE5IcQ7j1PQcivauPHgMJ+C6JeP9CGEHDqLGVlkE7SGcn/CPiOlHIF8M3w74pJSn6WBV8gRK8/Tt18Vj6s+ZQ2edmyf8zHFg+XN4jFaMBqGkLkdz0KhbOgYsWYjGsqU2iPtTZ4/WALSyrzIj1kFekhnSIvAUf45zygfpBjFROcgmzNkXHA5KvOKZ8Fkw3euHPsBjUIPd7A0FG8q1kr/1zyAa3dnCKtRFsbdPX6ee9YJ2ePwPRMkRzpFPn/An4shDgO/AS4Nd5BQoibwumcTS0tLWkcjmIk5IebOXfGy8sD5JTASR/RrAG6G8dwZPHRbIaHyMfvfgJkCBZfPTaDmuJEp2teP9BKMCQ5Z5y6QE0lRiTyQogXhBA743ytAz4DfEFKOR34AvDHeM8hpbxbSrlaSrm6pET9wycq+eFIvjNRJA/aBGwoAO/+YYxGlRhXMg6Uux6DkgVQtmhsBjXFKQqvtQiGJK/sa8ZhM7Fiev54DyvjGZGvp5TygkT7hBB/AW4J//owMP7vfMWwKYhE8oOIfNFsbcXou3+EM744rguLXJ7A4OWTznqo3Qjnfn3sBjXFKbRbkFLzr9mwv4Uz55VgMqoCv3STzr9wPXB2+OfzgANpPJcizfTl5Afv08lpN0NvO2x/aNjnOt7u5vndTcN+PGgulIOWT+56HJAqVTOGFOVo/jVvHGyluds7oiYkiuRJp8h/GvipEGIb8H3gpjSeS5Fm8iLpmiFEfsapUHkSvPlrzdlxGPzx9SPc/MB78cs1k8TlGUrkH4XyZVA8Z9jnUKSG7kT5yHsnADhb5ePHhLSJvJTydSnlKinlcinlWinl5nSdS5F+rCYj2Rbj4Oka0KpUTr0Z2g5qC6SGQXuPD28ghMc/vA8J0HLyuYlEvvMY1L0LS1QUP5YUhv1rXj/QwuJKB6W5tnEe0dRAJcQUSZOfZU5cQhnNonXgmAZv/XpY5+ns1c7R1ZvEuRKglVAmEPndT2rfF1017OdXpI7uXxOSqKqaMUSJvCJp8rMtdPUOka4BMJph9Se0GvRhLI7SU0KdyZwrDqGQpMcXTGwzvOdJKF8KhTOH9fyK4aFP3gOcM790HEcytVAir0iaAnuSkTzAyo+CwQyb7kn5PPrkblxDtCQYtPVfdyMcf1uzFVaMKWajgbwsMw6biZNU6eSYoURekTQJTcrikVOqpW22PgC+npTO09mjiXvnMNM1rsG85Pc8pX1XIj8uzCqxc+GiclU6OYaov7QiafIT2Q0nYs2nwNsFO/6R9EP8wVCkq9Nwc/KDOlDueRKK5kLJ/GE9t2Jk3PfJtdz+/iXjPYwphRJ5RdIUZFsSO1HGY8YpULoY3v09JPmYaGEfbrqmO9LEu593TU8bHH0DFl2pvGrGCbvVhM2sLJ3HEiXyiqTJzzYTDMlIpD0kQsCaT0LjDqjblNRDouvwhx/Ja06ZOVZz7I59/wYZhIVXDOt5FYrJiBJ5RdJETMp6UhDfZdeAJTdpP5voOvzhVtck9JLf8xTkzVC2woophRJ5RdIkbW0QjTUXln0Idj8Onq4hD4+u3unqTfKOoR+6yOdGR/IeJxx+WYviVapGMYVQIq9ImogTZapplJNugIAHdj4y5KH6B0hxjmUUJl6jIvmDz0PQp1I1iimHEnlF0gzpKZ+IypOgdBFsuW/IQ/Xnri6y05XqecK44lXX7Htaazg+XXWhVEwtlMgrkiY/K5yu6UlRfIXQGoqc2AzNewY9tNPtx2QQVOZnDTuSd3kDmI0Cqyn88g76NR+duRerZt2KKYcSeUXS5GUNM10DsOzDYDANGc13uP3kZ5spyDYPezGU7lsj9Nz7sbe0+YD5lwzr+RSKyYwSeUXSmIwGHDbT0E6U/fjZ8/u549UWmH8pbHtIi6wT0On2kZ9tIS/LjLPXTyiUut2wyxOItTTY/wwYLTD7vJSfS6GY7CiRV6REfrYlYU4+FJIDFkoFgiHufeMIj285oU3Aulth/7MJn7/D7aMg20xelpmQJPma/Chc3iiRl1Krj685U6v0USimGErkFSlRkB3fpCwQDHH1bzfylX9sj9m+5XgnTk+AJqeXrmlnQU75oCmbTrefvCxLJDXkHEbKJkbkWw9A+2HtLkKhmIIokVekRKJI/r63atl6vJMnt9XT7ekT5pf3Nkd+Ptjq0RZHHXxesxiIQ6fbH4nk9d9TJcZLfv/T2vd5Kh+vmJookVekRH6cCdGWbi8/fX4/NUXZ+AIhnt3V15/15X0tTC/MAuBAU7cm8qGAtjgqDh1uHwV2S6RcczgVNt3Rkfy+pzXv+PzpKT+PQpEJKJFXpERBtmVACeUPnt6Lxx/kDzeuoaogiye31QPQ2OVhT4OT606egc1s4ECzC8qWQMmCuM6UHn8QbyBEfnQkPwxrgx5d5HvaNO/4eSpVo5i6KJFXpERelhmnJ0AwXPWyubadR96r41NnzmJOaQ5XLq/kjYOttLq8vLJPS9Wcv6CMOaU57G/q1mrml34Qjm2EzuMxz62vds3PskRW1w4nku/xBrV0zcEXQIZUqkYxpVEir0iJgijxlVLynad2U5ln43PnzQFg3YppBEOSf+9o4OV9zVTm2ZhXlsO80lwONru0J1nyQQBefuQurrv7rchzd4SNz6Jz8qmKfCgktYlXW1jks4u1FbcKxRRFibwiJQrCzZg73D7eOtzO9rouPn/+XLItWg58fnkuC8pzeWRzHa8faOWcBaUIIZhTlkNDlwenxw+FM5FVa6iq+yfvHm3HHwwBfZYG+dkWbGYjVpMhZU95tz9sM2wRcOhFmHM+GNTLXDF1GdGrXwjxISHELiFESAixut++W4UQB4UQ+4QQF49smIqJQnTVyz1vHKHQbuGqk6bFHHPF8kq21XXR4wtybrhh87xSrUZdj+bbZ17JXHmUmfI4tW1ae0B9QrfAbo6cK9VI3hVuGDLdsx/cbTDnguFcpkKRMYw0xNkJXA28Gr1RCLEIuBZYDFwC/EYIoUxDMoCCcNXLtuOdvLCnifVrZwzo9HPl8koALEYDp80uAmBuWQ4AB5s0kX/FfAZBKbjSuDEi/NE5eQhX8qQYyevmZDUdbwJCrXJVTHniNMFMHinlHqDPI6SPdcBDUkovcEQIcRA4GXhzJOdTjD+6yP92wyFMBsENp1QPOGZ6YTZnzCnGbjVG6tWrCrKxmQ3a5Cvw4nFJpWEZV8qNPNXUDUsqIoKuT7oOK5IPi3xFyxtQuQLsxcO6ToUiU0hXsnIaEF06URfeNgAhxE1CiE1CiE0tLS1pGo5itMgLC3BLt5crllVS6rDFPe6ej63hV9evjPxuNAhml+RwoNlFKCTZeKiN4xUXU21oxlO3FdBy8llmY+TOIC/LkrJJWY83gAMXee1bYc6FqV+gQpFhDCnyQogXhBA743ytG+xhcbbFdZqSUt4tpVwtpVxdUlKS7LgV44TDZsJo0P69Hz99ZsLjLCYDZmPsy2tuaQ4HmrrZ3eCk0+3HvuwKQhioanwR6HOg1NFNylLB5Q1wpmEnQoZUPl6hIIl0jZRyOO+UOiB6iWEVUD+M51FMMIQQFNotzCyys7QqL6XHzi3L5fGt9TyzsxGANYvmUfv6CtZ0v0YoJCMOlDpaTj61xVDN3V7ONmwjZM3DMG1VSo9VKDKRdKVrngSuFUJYhRAzgbnAO2k6l2KM+fX1K/npNctTftzcUm3y9aF3jzGvLIdSh42W6RczW5yg5eh2OsK+NTp5WWZ6fMFIiWUy1He4Odu4DTH7PDCOaMpJocgIRlpC+X4hRB1wKvAvIcSzAFLKXcDfgd3AM8D/k1IGRzpYxcTg5JmFTC/MTvlx88q0MspWl4/TZmsTosbFWs9V99bH6XT7IhO7wPAWRDXtokx0IuaqVI1CASMUeSnlY1LKKimlVUpZJqW8OGrf7VLK2VLK+VLKp0c+VMVkZ3phNpZwS74z5mgiX10zh82hueQe+bdmMxwVyQ/H2qCidaP2gyqdVCgAteJVMYboFTZGg2DtrEIAiuwWXjGcQnH3XnJ762LSNY5hRPJze96jyTIDHJWjO3iFYpKiRF4xply0qIwrllWQa9MEXAjBwWIt6r5QvBOTrtEbhydrbRDweVge2k194dpRHrVCMXlRM1OKMeULF84bsM1RPoedzTVcanyHwyPIyXfs30iJ8NJdefroDFahyABUJK8Yd2aX2nk2uJoV4hCloiuyXS+nTLaM0nfgZYJSYJh1VlrGqVBMRpTIK8adOaU5vBRaiUFIZrS/EdnusGk3ml29yTXzth1/nR1yJuWlZWkZp0IxGVEirxh35pTksktW0ygLKG54JbLdZDSQazUl1x3K6yK/YxsbQ0uozI9vtaBQTEWUyCvGnWkFWVhMRl4KriD7+AYI9Im6I1mTstqNGGWQ7eblEW97hUKhRF4xATAaBLOK7VrKxufSWgOGyc82J1ddc2QDfsw05a9I30AVikmIEnnFhGBOaQ47LSvAaIX9z0W2J203fHgDO40LKSnIT9sYFYrJiBJ5xYTgs+fM4X+uXg0zz4L9z0S252ebh7YbdrVA0w5eDSyiMj8rzSNVKCYXSuQVE4JFlQ4uX1YJ8y6G9kPQehBIMpI/+hoAL/sWMU2JvEIRgxJ5xcRi7kXa93A078jScvJSxm1HoFH7BkGznR1yporkFYp+KJFXTCwKqqF0ERx4FoDSXBu+YIiOwSZfazfSWbSSIEZVPqlQ9EOJvGLiMfciqN0I3u5I+uVER2/8Y93t0LybY7krAK0cU6FQ9KFEXjHxmH0ehAJw9A2qwqJ9otMd/9hjWm/4nebFWIwGiu3WsRqlQjEpUCKvmHjMOAVMWXD45YjI1yWK5Gs3gtHKe/5ZVOTbMBjitRdWKKYuSuQVEw+TFapPg0Mvk5dlxm4xcqIzkci/AVVrOOYMUpmnUjUKRX+UyCsmJrPPhdZ9CGc90wqy4ufkvd3QsA2qT6O+s1fl4xWKOCiRV0xMZp2rfT/8MtPys+JH8sffBhkiMP1UmpweVT6pUMRBibxiYlK2GOylcOhlLZKPJ/K1G8FgotGxjJCEaap8UqEYgBJ5xcRECC1lc/gVpuXZ6HT7cXn7+coffQMqVnCiR5tsVZG8QjGQEYm8EOJDQohdQoiQEGJ11PYLhRCbhRA7wt/PG/lQFVOOWeeCu5WFhlqgX628vxdObIbq0zge3q5EXqEYyEgj+Z3A1cCr/ba3AldIKZcCNwJ/HeF5FFORWecAMKf7XaBfrXzdJgj5ofp0th7vINdqoqbIPg6DVCgmNiMSeSnlHinlvjjbt0gp68O/7gJsQgi1SkWRGo4KKF1ESbPmLx8TyR97S/s+Yy2bjnawYkY+RlUjr1AMYCxy8h8AtkgpvWNwLkWmMetcLCfeJscYoC568vX421CygC5y2NfUzZqawvEbo0IxgRlS5IUQLwghdsb5WpfEYxcDPwT+Y5BjbhJCbBJCbGppaUlt9IrMp+YMRNDLebnH+iL5UAjq3oWqNWw51oGUsLq6YHzHqVBMUIZshimlvGA4TyyEqAIeAz4qpTw0yPPfDdwNsHr16kH8ZBVTkupTAcGZ5n080LlS29Z2EDydMF1L1RgNghUz8sdxkArFxCUt6RohRD7wL+BWKeUb6TiHYoqQVQDlS1gR2tUXyde9o32ffjKbattZVOFQzbsVigSMtITy/UKIOuBU4F9CiGfDu24G5gDfEEJsDX+VjnCsiqlK9RnU9O6is9uFNxCE4++ALQ9/wWy2Hu9kdY1K1SgUiRhpdc1jUsoqKaVVSlkmpbw4vP1/pZR2KeWKqK/m0RmyYspRczrmkJdl4hANnZ5IPn53gwuPP8TqajXpqlAkQq14VUx8ZpwGwFrDXhqbm6F5D0xfy7tH2wFUJK9QDIISecXEx16Er2gBaw178Bx9G5BQtYbNtR1UFWRR5lCeNQpFIpTIKyYFxplnsMqwH1v9W4BATlvJptoOVR+vUAyBEnnFpMA48wzswsuihiegdBHHeky0dHtZperjFYpBUXVnisnB241wZzeOLieypI23D/wSrEtVPl6hGAIVySsmPvffD5/7MnRpa+VESzeX/+rb/Mi7g/llueM8OIViYqNEXjHxue02cLtjNmUHvFzz2F0IoUzJFIrBUCKvmPgcO5badoVCEUGJvGLiM2NGatsVCkUEJfKKic/tt0N2duy27Gxtu0KhGBQl8oqJz/r1cPfdUF2t9X6trtZ+X79+vEemUEx4VAmlYnKwfr0SdYViGKhIXqFQKDIYJfIKhUKRwSiRVygUigxGibxCoVBkMErkFQqFIoMRUk6c3tlCiBagdgRPUQy0jtJwJgNT7XpBXfNUQV1zalRLKUvi7ZhQIj9ShBCbpJSrx3scY8VUu15Q1zxVUNc8eqh0jUKhUGQwSuQVCoUig8k0kb97vAcwxky16wV1zVMFdc2jREbl5BUKhUIRS6ZF8gqFQqGIQom8QqFQZDAZIfJCiEuEEPuEEAeFEF8b7/GMFkKIe4QQzUKInVHbCoUQzwshDoS/F0TtuzX8N9gnhLh4fEY9fIQQ04UQLwsh9gghdgkhbglvz+Rrtgkh3hFCbAtf83fC2zP2mnWEEEYhxBYhxD/Dv2f0NQshjgohdgghtgohNoW3pf+apZST+gswAoeAWYAF2AYsGu9xjdK1nQWsBHZGbfsR8LXwz18Dfhj+eVH42q3AzPDfxDje15Di9VYAK8M/5wL7w9eVydcsgJzwz2bgbeCUTL7mqGv/IvAA8M/w7xl9zcBRoLjftrRfcyZE8icDB6WUh6WUPuAhYN04j2lUkFK+CrT327wO+HP45z8DV0Vtf0hK6ZVSHgEOov1tJg1SygYp5Xvhn7uBPcA0MvuapZTSFf7VHP6SZPA1AwghqoD3AX+I2pzR15yAtF9zJoj8NOB41O914W2ZSpmUsgE0UQRKw9sz6u8ghKgBTkKLbDP6msNpi61AM/C8lDLjrxm4E/hvIBS1LdOvWQLPCSE2CyFuCm9L+zVnQmcoEWfbVKwLzZi/gxAiB3gE+C8ppVOIeJemHRpn26S7ZillEFghhMgHHhNCLBnk8El/zUKIy4FmKeVmIcQ5yTwkzrZJdc1hTpdS1gshSoHnhRB7Bzl21K45EyL5OmB61O9VQP04jWUsaBJCVACEvzeHt2fE30EIYUYT+PullI+GN2f0NetIKTuBV4BLyOxrPh24UghxFC29ep4Q4j4y+5qRUtaHvzcDj6GlX9J+zZkg8u8Cc4UQM4UQFuBa4MlxHlM6eRK4MfzzjcATUduvFUJYhRAzgbnAO+MwvmEjtJD9j8AeKeXPonZl8jWXhCN4hBBZwAXAXjL4mqWUt0opq6SUNWjv15eklB8hg69ZCGEXQuTqPwMXATsZi2se7xnnUZq1vgytEuMQcNt4j2cUr+tBoAHwo32yfxIoAl4EDoS/F0Ydf1v4b7APuHS8xz+M6z0D7ZZ0O7A1/HVZhl/zMmBL+Jp3At8Mb8/Ya+53/efQV12TsdeMVv23Lfy1S9epsbhmZWugUCgUGUwmpGsUCoVCkQAl8gqFQpHBKJFXKBSKDEaJvEKhUGQwSuQVCoUig1Eir1AoFBmMEnmFQqHIYP4/TLd39CHiYgQAAAAASUVORK5CYII=\n",
      "text/plain": [
       "<Figure size 432x288 with 1 Axes>"
      ]
     },
     "metadata": {
      "needs_background": "light"
     },
     "output_type": "display_data"
    }
   ],
   "source": [
    "Cholesky = np.linalg.cholesky(SigmaCond)\n",
    "\n",
    "#methode de rejet: on veut que simu ne possede que des valeurs negatives\n",
    "x = np.random.normal(0,1,np.shape(unknown_indexes)[0])\n",
    "simu_rejet = Ec + np.matmul(Cholesky,x)\n",
    "rejet = 0\n",
    "i = 0\n",
    "\n",
    "while i < np.shape(unknown_indexes)[0]:\n",
    "    while simu_rejet[i] >= 0:\n",
    "        rejet += 1\n",
    "        x[i] = np.random.normal(0,1,1)[0]\n",
    "        simu_rejet = Ec + np.matmul(Cholesky,x)\n",
    "    i +=1\n",
    "        \n",
    "\n",
    "allval3_rejet = np.zeros(N)\n",
    "allval3_rejet[unknown_indexes]=simu_rejet\n",
    "allval3_rejet[observation_indexes]=depth\n",
    "plt.plot(discretization,allval3_rejet)\n",
    "plt.plot(discretization,allval1)\n",
    "plt.plot(discretization[observation_indexes], depth, 'ro')\n",
    "plt.show()\n"
   ]
=======
>>>>>>> 042191e300516af5996617a6c5d28b0d10c1115b
  },
  {
   "cell_type": "markdown",
   "metadata": {},
   "source": [
    "2. L'emploi de cet algorithme a-t-il un impact sur la valeur moyenne de la longueur de câble ? Sur l'histogramme des longueurs de câble ? Sur l'intervalle de confiance obtenu par la méthode des quantiles ? Sur la probabilité de dépassement du seuil de 525 m? Donner une estimation du taux de rejet de l'algorithme. Considérer 10000 simulations."
   ]
<<<<<<< HEAD
  },
  {
   "cell_type": "code",
   "execution_count": 39,
   "metadata": {},
   "outputs": [
    {
     "name": "stdout",
     "output_type": "stream",
     "text": [
      "Avec rejet, la longueur moyenne de cable est 522.39m\n",
      "Sans rejet, la longueur moyenne de cable est 522.45m\n"
     ]
    },
    {
     "data": {
      "image/png": "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\n",
      "text/plain": [
       "<Figure size 432x288 with 1 Axes>"
      ]
     },
     "metadata": {
      "needs_background": "light"
     },
     "output_type": "display_data"
    },
    {
     "name": "stdout",
     "output_type": "stream",
     "text": [
      "Sans rejet, l'intervalle de confiance est [517.16709735 528.44057511]\n",
      "Avec rejet, l'intervalle de confiance est [517.12594917 528.45028834]\n",
      "Sans rejet, la probabilite de depasser les 525m de longueur de cable est 0.1827\n",
      "Avec rejet, la probabilite de depasser les 525m de longueur de cable est 0.1783\n",
      "Une estimation du taux de rejet est 0.0492\n"
     ]
    }
   ],
   "source": [
    "#impact sur la valeur moyenne de la longueur de cable:\n",
    "K = 10000\n",
    "result_rejet = np.zeros(K)\n",
    "for i in range(K):\n",
    "    x=np.random.normal(0,1,np.shape(unknown_indexes)[0])\n",
    "    allval3_rejet[unknown_indexes]=Ec + np.matmul(Cholesky,x)\n",
    "    result_rejet[i]=length(allval3_rejet,Delta)\n",
    "\n",
    "print(f\"Avec rejet, la longueur moyenne de cable est {round(sum(result_rejet)/K, 2)}m\") \n",
    "print(f\"Sans rejet, la longueur moyenne de cable est {round(sum(result)/K, 2)}m\") \n",
    "\n",
    "#impact sur l'histogramme des longueurs de cable:\n",
    "plt.hist(result,50,density=True, alpha = 0.5, label=\"Sans rejet\")\n",
    "plt.hist(result_rejet,50,density=True, alpha=0.5, label=\"Avec rejet\")\n",
    "plt.legend()\n",
    "plt.show()\n",
    "\n",
    "#impact sur l'intervalle de confiance:\n",
    "print(f\"Sans rejet, l'intervalle de confiance est {np.quantile(result,[0.025,0.975])}\")\n",
    "print(f\"Avec rejet, l'intervalle de confiance est {np.quantile(result_rejet,[0.025,0.975])}\")\n",
    "\n",
    "#impact sur la probabilite de depasser les 525m de longueur de cable:\n",
    "print(f\"Sans rejet, la probabilite de depasser les 525m de longueur de cable est {np.mean(result>525)}\")\n",
    "print(f\"Avec rejet, la probabilite de depasser les 525m de longueur de cable est {np.mean(result_rejet>525)}\")\n",
    "\n",
    "#estimation du taux de rejet (1000 simulations):\n",
    "rejet = 0\n",
    "for j in range(1000):\n",
    "    x = np.random.normal(0,1,np.shape(unknown_indexes)[0])\n",
    "    simu_rejet = Ec + np.matmul(Cholesky,x)\n",
    "    i = 0\n",
    "    while i < np.shape(unknown_indexes)[0]:\n",
    "        while simu_rejet[i] >= 0:\n",
    "            rejet += 1\n",
    "            x[i] = np.random.normal(0,1,1)[0]\n",
    "            simu_rejet[i:] = Ec[i:] + np.matmul(Cholesky,x)[i:]\n",
    "        i +=1\n",
    "\n",
    "print(f\"Une estimation du taux de rejet est {rejet/(1000*np.shape(unknown_indexes)[0])}\")"
   ]
=======
>>>>>>> 042191e300516af5996617a6c5d28b0d10c1115b
  },
  {
   "cell_type": "markdown",
   "metadata": {},
   "source": [
    "## Approche Bayésienne\n",
    "\n",
    "Dans la première partie, on a considéré que l'ensemble des paramètres du modèle était parfaitement connu. Toutes choses égales par ailleurs, on va maintenant considérer que la moyenne $\\mu$ est issue d'une estimation entâchée d'une incertitude. Plus précisément, on va modéliser cette incertitude en considérant que $\\mu \\sim \\mathcal{N}(-5,4)$.\n",
    "\n",
    "On va également décomposer le vecteur $\\mathbf{Z}$ en $\\mathbf{Z} = (\\mathbf{Z}_{\\text{OBS}},\\mathbf{Z}_{\\text{UNK}})$. On notera $C_{\\text{OBS}}$ et $C_{\\text{UNK}}$ les matrices de covariance respectives de $\\mathbf{Z}_{\\text{OBS}}$ et $\\mathbf{Z}_{\\text{UNK}}$ ainsi que $C_{\\text{OBS},\\text{UNK}}$ la matrice des covariances entre ces deux vecteurs.\n",
    "\n",
    "### Questions théoriques\n",
    "\n",
    "3. Montrer que $\\mu | \\mathbf{Z}_{\\text{OBS}}= \\mathbf{z}_{\\text{OBS}} \\sim \\mathcal{N}(\\widehat{\\mu},\\widehat{\\sigma}^2)$ avec\n",
    "$$\\widehat{\\sigma}^2 = (\\mathbf{1}^t C_{\\text{OBS}}^{-1} \\mathbf{1} + \\frac1{4})^{-1},$$ \n",
    "où $\\mathbf{1}$ est un vecteur de longueur 6 (soit la longueur du vecteur $\\mathbf{Z}_{\\text{OBS}}$) ne contenant que des 1 et \n",
    "$$\\widehat{\\mu} = \\widehat{\\sigma}^2 (\\mathbf{1}^t C_{\\text{OBS}}^{-1} \\mathbf{z}_{\\text{OBS}} - \\frac{5}{4} )$$\n",
    "Indication : écrire la densité jointe du vecteur $(\\mathbf{Z}_{\\text{OBS}},\\mu)$, calculer $-2 \\ln$ de cette densité puis identifier la forme quadratique faisant intervenir $\\mu$."
   ]
  },
  {
   "cell_type": "markdown",
   "metadata": {},
   "source": [
    "4. Montrer que si $X$, $Y$ et $Z$ sont trois vecteurs aléatoires à densité, alors $f_{X,Y|Z = z}(x,y) = f_{X|Y=y,Z=z}(x)f_{Y|Z=Z}(y)$"
   ]
  },
  {
   "cell_type": "markdown",
   "metadata": {},
   "source": [
    "5. En déduire que la densité de $(\\mathbf{Z}_{\\text{UNK}},\\mu) | \\mathbf{Z}_{\\text{OBS}} = \\mathbf{z}_{\\text{OBS}}$ s'écrit comme le produit de $f_{\\mu | \\mathbf{Z}_{\\text{OBS}} = \\mathbf{z}_{\\text{OBS}}}$ et de $f_{\\mathbf{Z}_{\\text{UNK}}| \\mu = \\mu^\\star, \\mathbf{Z}_{\\text{OBS}} = \\mathbf{z}_{\\text{OBS}}}$ que l'on exprimera.\n",
    "\n",
    "    Indication : $f_{\\mathbf{Z}_{\\text{UNK}}| \\mu = \\mu^\\star, \\mathbf{Z}_{\\text{OBS}} = \\mathbf{z}_{\\text{OBS}}}$ est identique à la densité $f_{\\mathbf{Z}_{\\text{UNK}}| \\mathbf{Z}_{\\text{OBS}} = \\mathbf{z}_{\\text{OBS}}}$ utilisée dans la partie 1 avec $\\mu = \\mu^\\star$"
   ]
  },
  {
   "cell_type": "markdown",
   "metadata": {},
   "source": [
    "### Simulation\n",
    "\n",
    "On va maintenant chercher à simuler les valeurs de $\\mathbf{Z}_{\\text{UNK}}$ en tenant compte de l'incertitude sur $\\mu$.\n",
    "\n",
    "En première approche, on pourrait chercher à obtenir la densité de $\\mathbf{Z}_{\\text{UNK}} | \\mathbf{Z}_{\\text{OBS}} = \\mathbf{z}_{\\text{OBS}}$ en calculant \n",
    "$$\\int_\\mathbb{R} f_{(\\mathbf{Z}_{\\text{UNK}},\\mu) | \\mathbf{Z}_{\\text{OBS}} = \\mathbf{z}_{\\text{OBS}}}(\\mathbf{z}_{\\text{UNK}},\\mu^\\star) d\\mu^\\star$$\n",
    "mais ce calcul a peu de chances d'aboutir.\n",
    "\n",
    "On va plutôt procéder par simulations en cascade, c'est-à-dire que pour chaque simulation de $\\mathbf{Z}_{\\text{UNK}}$, on va d'abord générer une valeur $\\mu^\\star$ de $\\mu$ selon $f_{\\mu | \\mathbf{Z}_{\\text{OBS}}= \\mathbf{z}_{\\text{OBS}}}$ puis on simulera $\\mathbf{Z}_{\\text{UNK}}$ selon $f_{\\mathbf{Z}_{\\text{UNK}}| \\mathbf{Z}_{\\text{OBS}} = \\mathbf{z}_{\\text{OBS}},\\mu = \\mu^\\star}$.\n"
   ]
  },
  {
   "cell_type": "markdown",
   "metadata": {},
   "source": [
    "6. Calculer $\\widehat{\\mu}$ et $\\widehat{\\sigma}^2$. "
   ]
  },
  {
   "cell_type": "markdown",
   "metadata": {},
   "source": [
    "7. Calculer la probabilité de $\\{\\mu| \\mathbf{Z}_{\\text{OBS}} = \\mathbf{z}_{\\text{OBS}} > 0\\}$. Proposer et implémenter un algorithme de simulation de $\\mu| \\mathbf{Z}_{\\text{OBS}} = \\mathbf{z}_{\\text{OBS}}, \\mu <0$."
   ]
  },
  {
   "cell_type": "markdown",
   "metadata": {},
   "source": [
    "8. Générer un couple $\\mathbf{Z}_{\\text{UNK}}, \\mu| \\mathbf{Z}_{\\text{OBS}}, \\mu <0$ et représenter le profil de profondeur obtenu. On prendra soin de ne générer que des valeurs négatives de $\\mathbf{Z}_{\\text{UNK}}$ en utilisant l'algorithme de la section précédente."
   ]
  },
  {
   "cell_type": "markdown",
   "metadata": {},
   "source": [
    "9. Générer 10000 profils de profondeur et calculer les longueurs de câble associées. Comparer la valeur moyenne de la longueur de câble, dont on visualisera la convergence, l'histogramme des longueurs de câble, l'intervalle de confiance obtenu par la méthode des quantiles, la probabilité de dépassement du seuil de 525 m avec les résultats obtenus précédemment. Commenter."
   ]
  },
  {
   "cell_type": "markdown",
   "metadata": {},
   "source": [
    "10. Qu'adviendrait-il selon vous si on rendait également aléatoires les autres paramètres du modèle $\\sigma^2$ et $a$ ?"
   ]
  },
  {
   "cell_type": "markdown",
   "metadata": {},
   "source": [
    "11. (facultatif) On suppose désormais que $\\alpha = \\frac1{\\sigma^2} \\sim \\Gamma(a_1,a_2)$, où $\\sigma^2$ correspond au paramètre qui intervient dans la fonction $C$. Donner l'expression de la densité de $\\alpha | \\mathbf{Z}_{\\text{OBS}} = \\mathbf{z}_{\\text{OBS}}$,  de $\\mu | \\alpha, \\mathbf{Z}_{\\text{OBS}} = \\mathbf{z}_{\\text{OBS}},$ et de $\\mathbf{Z}_{\\text{UNK}} | \\mu, \\alpha, \\mathbf{Z}_{\\text{OBS}} = \\mathbf{z}_{\\text{OBS}}$. Proposer un algorithme de simulation tenant compte de l'incertitude sur le paramètre $\\alpha$ et analyser son impact sur les différentes quantités évaluées.\n",
    "\n",
    "    Indication : Pour identifier la densité de $\\alpha | \\mathbf{Z}_{\\text{OBS}} = \\mathbf{z}_{\\text{OBS}}$, exprimer d'abord la densité jointe de $(\\alpha,\\mu, \\mathbf{Z}_{\\text{OBS}})$ puis marginaliser pour obtenir la densité de $(\\alpha,\\mathbf{Z}_{\\text{OBS}})$\n"
   ]
  }
 ],
 "metadata": {
  "@webio": {
   "lastCommId": "5ceb69a5bbd14071b254c2439a58ac4b",
   "lastKernelId": "0e923419-c540-42c1-ab5f-d0e05ff4521c"
  },
  "kernelspec": {
   "display_name": "Python 3",
   "language": "python",
   "name": "python3"
  },
  "language_info": {
   "codemirror_mode": {
    "name": "ipython",
    "version": 3
   },
   "file_extension": ".py",
   "mimetype": "text/x-python",
   "name": "python",
   "nbconvert_exporter": "python",
   "pygments_lexer": "ipython3",
   "version": "3.8.3"
  }
 },
 "nbformat": 4,
 "nbformat_minor": 2
}
